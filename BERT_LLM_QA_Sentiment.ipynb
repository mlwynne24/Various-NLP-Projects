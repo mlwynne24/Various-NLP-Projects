{
 "cells": [
  {
   "cell_type": "markdown",
   "id": "5ba36903-ee71-4a62-9bb8-8e0270fdae64",
   "metadata": {},
   "source": [
    "# Advanced Text Analytics Lab 2"
   ]
  },
  {
   "cell_type": "markdown",
   "id": "d244c460-fa21-482a-a6e6-4216f8f74c24",
   "metadata": {
    "tags": []
   },
   "source": [
    "This notebook is the second of two lab notebooks that you will submit as part of your assessment for the Advanced Data Analytics unit. The notebook contains three required sections plus an optional section:\n",
    "\n",
    "4. **Introducing Transformers:** This section introduces the Transformers library from HuggingFace, showing you how to use it to obtain contextualised embeddings from pretrained transformer models.\n",
    "\n",
    "5. **Question Answering with Pretrained Transformers:** Learn about how to use a pretrained model to perform automatic question answering. \n",
    "\n",
    "6. **Transformers for Text Classification:** Here we show you how to construct a classifier using Transformers.\n",
    "\n",
    "7. **OPTIONAL: More on Transformers:** Some pointers to other materials if you want to learn more about transformers, e.g., if using them in your summer project. \n",
    "\n",
    "Example code for all the tasks has been tested on a three-year old MacBook Pro, and the longest training process took under 10 minutes. If you find that the code takes too long to run on your own machine, you can try [Google Colab](https://colab.research.google.com/), Amazon Sagemaker Studio, or use lab machines on campus provided by the school. \n",
    "\n",
    "## Learning Outcomes\n",
    "\n",
    "These sections will contain tutorial-like instructions, as you have seen in previous text analytics labs. On completing these sections, the intended learning outcomes are that you will be able to...\n",
    "1. Use pretrained transformers to obtain contextualised word and sentence embeddings.\n",
    "1. Apply a pretrained QA model to a new dataset. \n",
    "1. Construct classifiers with pretrained transformers. \n",
    "1. Find documentation on pretrained models in the Transformers library.\n",
    "\n",
    "## Your Tasks\n",
    "\n",
    "Inside each of these sections there are several **'To-do's**, which you must complete for your summative assessment. Your marks will be based on your answers to these to-dos. Please make sure to:\n",
    "1. Include the output of your code in the saved notebook. Plots and printed output should be visible without re-running the code. \n",
    "1. Include all code needed to generate your answers.\n",
    "1. Provide sufficient comments to understand how your method works.\n",
    "1. Write text in a cell in markdown format where a written answer is required. You can convert a cell to markdown format by pressing Escape-M. \n",
    "\n",
    "There are also some unmarked 'to-do's that are part of the tutorial to help you learn how to implement and use the methods studied here.\n",
    "\n",
    "## Good Academic Practice\n",
    "\n",
    "Please follow [the guidance on academic integrity provided by the university](http://www.bristol.ac.uk/students/support/academic-advice/academic-integrity/).\n",
    "You are required to write your own answers -- do not share your notebooks or copy someone else's writing. Do not copy text or long blocks of code directly into the notebook from online sources -- always rewrite in your own way. Breaking the rules can lead to strong penalties. \n",
    "\n",
    "## Marking Criteria\n",
    "\n",
    "1. The coursework (both notebooks) is worth 30% of the unit in total. \n",
    "1. There is a total of 100 marks available for both lab notebooks. \n",
    "1. This notebook is worth 50 of those marks.\n",
    "1. The number of marks for each to-do out of 100 is shown alongside each to-do.\n",
    "1. For to-dos that require you to write code, a good solution would meet the following criteria (in order of importance):\n",
    "   1. Solves the task or answers the question asked in the to-do. This means, if the code cells in the notebook are executed in order, we will get the output shown in your notebook.\n",
    "   1. The code is easy to follow and does not contain unnecessary steps.\n",
    "   1. The comments show that you understand how your solution works.\n",
    "   1. A very good answer will also provide code that is computationally efficient but easy to read.\n",
    "1. You can use any suitable publicly available libraries. Unless the task explicitly asks you to implement something from scratch, there is no penalty for using libraries to implement some steps.\n",
    "\n",
    "## Support\n",
    "\n",
    "The main source of support will be during the remaining lab sessions (Fridays 3-6pm) for this unit. \n",
    "\n",
    "The TAs and lecturer will help you with questions about the lectures, the code provided for you in this notebook, and general questions about the topics we cover. For the marked 'to-dos', they can only answer clarifying questions about what you have to do. \n",
    "\n",
    "Office hours: You can book office hours with Edwin on Mondays 3pm-5pm by sending him an email (edwin.simpson@bristol.ac.uk). If those times are not possible for you, please contact him by email to request an alternative. \n",
    "\n",
    "## Deadline\n",
    "\n",
    "The notebook must be submitted along with the second notebook on Blackboard before **Wednesday 24th May at 13.00**. \n",
    "\n",
    "## Submission\n",
    "\n",
    "You will need to zip up this notebook with the previous notebook into a single .zip file, which you will submit to Blackboard through the 'assessment, submission and feedback' link on the left sidebar. \n",
    "\n",
    "Please name your files like this:\n",
    "   * Name this notebook ADA2_<student_number>.ipynb\n",
    "   * Name the zip file <student_number>.zip\n",
    "   * Please don't use your name anywhere as we want to mark anonymously. "
   ]
  },
  {
   "cell_type": "code",
   "execution_count": 245,
   "id": "1e3b707e-0ce9-49cb-b226-6ad387fddebb",
   "metadata": {},
   "outputs": [],
   "source": [
    "import numpy as np\n",
    "import torch \n",
    "from datasets import load_dataset\n",
    "\n",
    "cache_dir = \"./data_cache\""
   ]
  },
  {
   "cell_type": "markdown",
   "id": "1e8a9045-9d0b-4427-b91c-a085496de2a5",
   "metadata": {},
   "source": [
    "# 4. Pretrained Transformers (max. 15 marks)\n",
    "\n",
    "HuggingFace is a company that has developed an open source library for loading pretrained transformer models. They also distribute many models that have been pretrained using language modelling tasks, or fine-tuned to specific downstream NLP tasks.  It is currently the best library to use to create NLP models on top of large, deep neural networks. This is especially useful for tasks where simpler, feature-based methods or smaller LSTM models do not perform well enough, for example, when complex processing of syntax and semantics is required (natural language 'understanding'). \n",
    "\n",
    "Let's start by looking at two key types of object in the transformers library: models and tokenizers.\n",
    "\n",
    "## 4.1. Models\n",
    "\n",
    "The neural network models available in the Transformers library are accessed through wrapper classes such as `AutoModel`. If we want to load a pretrained model, we can simply pass its name to the `from_pretrained` function, and the pretrained model weights will be downloaded from HuggingFace and a neural network model will be created with those weights. For example:"
   ]
  },
  {
   "cell_type": "code",
   "execution_count": 246,
   "id": "122d993d-e48c-4dc2-bc14-2949b3d67e16",
   "metadata": {},
   "outputs": [
    {
     "name": "stderr",
     "output_type": "stream",
     "text": [
      "Some weights of the model checkpoint at huawei-noah/TinyBERT_General_4L_312D were not used when initializing BertModel: ['fit_denses.2.weight', 'fit_denses.1.weight', 'cls.predictions.transform.LayerNorm.weight', 'cls.predictions.transform.dense.bias', 'fit_denses.4.weight', 'fit_denses.1.bias', 'fit_denses.0.bias', 'fit_denses.0.weight', 'cls.seq_relationship.bias', 'fit_denses.3.weight', 'cls.predictions.bias', 'cls.predictions.transform.LayerNorm.bias', 'fit_denses.4.bias', 'cls.seq_relationship.weight', 'fit_denses.2.bias', 'fit_denses.3.bias', 'cls.predictions.decoder.weight', 'cls.predictions.transform.dense.weight']\n",
      "- This IS expected if you are initializing BertModel from the checkpoint of a model trained on another task or with another architecture (e.g. initializing a BertForSequenceClassification model from a BertForPreTraining model).\n",
      "- This IS NOT expected if you are initializing BertModel from the checkpoint of a model that you expect to be exactly identical (initializing a BertForSequenceClassification model from a BertForSequenceClassification model).\n"
     ]
    }
   ],
   "source": [
    "from transformers import AutoModel # For BERTs\n",
    "\n",
    "model = AutoModel.from_pretrained(\"huawei-noah/TinyBERT_General_4L_312D\") "
   ]
  },
  {
   "cell_type": "markdown",
   "id": "bfe226ec-580f-4022-97b0-e5010ddfb55e",
   "metadata": {},
   "source": [
    "This code loads the TinyBERT model, which is a compressed version of BERT. It has 4.4 million parameters, compared to the standard version of BERT, 'BERT-base', which has 110 million parameters. While TinyBERT will not perform as well as larger models, we will use it for this notebook to save memory and computation costs. See [documentation here](https://huggingface.co/huawei-noah/TinyBERT_General_4L_312D).\n",
    "\n",
    "<!--the RoBERTa variant of BERT. It has 4.4 million parameters, compared to the standard version of BERT, 'BERT-base', which has 110 million parameters. While RoBERTa-tiny will not perform as well as larger models, we will use it for this notebook to save memory and computation costs. See [documentation here](https://huggingface.co/arampacha/roberta-tiny).  -->\n",
    "\n",
    "The same functions can be used to load other models from HuggingFace's repository simply by changing the model's name. Take a look at [the Models page](https://huggingface.co/models) so see what there is on offer. Do you recognise any of the models' names?\n",
    "\n",
    "# 4.2. Tokenizers\n",
    "\n",
    "Before we can apply a model to some text, we need to a create Tokenizer object. In Transfomers, Tokenizer objects convert raw text to a sequence of numbers. First, the tokenizer actually performs tokenization, then it maps each token to its numerical ID. There are lots of different tokenizers that we can use to preprocess text. If we are loading a pretrained model, we will need to choose the tokenizer that corresponds to that model. \n",
    "\n",
    "We can load the right tokenizer as follows, in the same way we loaded the model itself:"
   ]
  },
  {
   "cell_type": "code",
   "execution_count": 247,
   "id": "d24395ef-aa4a-4d62-a6ea-aa97d86f42c2",
   "metadata": {},
   "outputs": [],
   "source": [
    "from transformers import AutoTokenizer\n",
    "\n",
    "tokenizer = AutoTokenizer.from_pretrained(\"huawei-noah/TinyBERT_General_4L_312D\")"
   ]
  },
  {
   "cell_type": "markdown",
   "id": "7b0ed12c-cb5a-48c5-b67f-7d17b0a79514",
   "metadata": {},
   "source": [
    "Let's see what the TinyBERT tokenizer does to an example sentence:"
   ]
  },
  {
   "cell_type": "code",
   "execution_count": 248,
   "id": "73e5852f-46b3-4e28-b952-780f472b6a7e",
   "metadata": {},
   "outputs": [
    {
     "name": "stdout",
     "output_type": "stream",
     "text": [
      "['the', 'transform', '##er', 'architecture', 'has', 'transformed', 'the', 'field', 'of', 'nl', '##p', '.']\n"
     ]
    }
   ],
   "source": [
    "sentence = \"The transformer architecture has transformed the field of NLP.\"\n",
    "\n",
    "tokens = tokenizer.tokenize(sentence)\n",
    "print(tokens)"
   ]
  },
  {
   "cell_type": "markdown",
   "id": "6807c966-188f-4a0b-b435-4282d5aa0201",
   "metadata": {},
   "source": [
    "Let's compare with the NLTK tokenizer we have seen before:"
   ]
  },
  {
   "cell_type": "code",
   "execution_count": 249,
   "id": "ee63d96e-2441-4591-bff9-3a1bf6289828",
   "metadata": {},
   "outputs": [
    {
     "name": "stdout",
     "output_type": "stream",
     "text": [
      "['The', 'transformer', 'architecture', 'has', 'transformed', 'the', 'field', 'of', 'NLP', '.']\n"
     ]
    }
   ],
   "source": [
    "from nltk.tokenize import word_tokenize\n",
    "\n",
    "nltk_tokens = word_tokenize(sentence)\n",
    "print(nltk_tokens)"
   ]
  },
  {
   "cell_type": "markdown",
   "id": "ad2f2123-34a6-4095-9981-2966fdadd7d8",
   "metadata": {},
   "source": [
    "While NLTK keeps whole words as tokens, the BERT tokenizer splits some words into sub-words and inserts some special characters into the tokens. Splitting is applied to words with low frequency in the training set, such as 'transformer'. \n",
    "\n",
    "**TO-DO 4a:** What is the benefit of splitting rare words into sub-word tokens? **(2 marks)**\n",
    "\n",
    "Better generalisation to unseen data as rare words are split into more general forms. Furthermore, a smaller vocabulary has to be stored by the network, thus reducing the number of model parameters, and therefore storage and computation costs.\n",
    "\n",
    "\n",
    "---\n",
    "\n",
    "It is important to use the right tokenizer with a pretrained model as each model was trained with text tokenized in a particular way. After tokenization, the Tokenizer object can also map the tokens to their IDs (indexes in the vocabulary):"
   ]
  },
  {
   "cell_type": "code",
   "execution_count": 250,
   "id": "950440ae-d58f-4675-8fb4-6114462331fd",
   "metadata": {},
   "outputs": [
    {
     "name": "stdout",
     "output_type": "stream",
     "text": [
      "[1996, 10938, 2121, 4294, 2038, 8590, 1996, 2492, 1997, 17953, 2361, 1012]\n"
     ]
    }
   ],
   "source": [
    "ids = tokenizer.convert_tokens_to_ids(tokens)\n",
    "\n",
    "print(ids)"
   ]
  },
  {
   "cell_type": "markdown",
   "id": "ae17f77c-46f4-4ab0-9eee-858fd0b237f2",
   "metadata": {},
   "source": [
    "## 4.3. Contextualised Embeddings\n",
    "\n",
    "Now that we have a sequence of tokens, we are almost ready to process the sequence using the pretrained model. \n",
    "\n",
    "Our model takes as input a PyTorch `tensor` object. In PyTorch, `tensor` is a muli-dimensional matrix. Here, we need a two-dimensional matrix, where each row is a sequence of input tokens corresponding to a single sentence or document. Let's convert our list of IDs to a 2-D tensor with a single row:"
   ]
  },
  {
   "cell_type": "code",
   "execution_count": 251,
   "id": "07007371-2125-4fb0-8511-63ade9a2f796",
   "metadata": {},
   "outputs": [
    {
     "name": "stdout",
     "output_type": "stream",
     "text": [
      "tensor([[ 1996, 10938,  2121,  4294,  2038,  8590,  1996,  2492,  1997, 17953,\n",
      "          2361,  1012]])\n"
     ]
    }
   ],
   "source": [
    "ids_tensor = torch.tensor([ids])\n",
    "\n",
    "print(ids_tensor)"
   ]
  },
  {
   "cell_type": "markdown",
   "id": "508047c1-96fa-4839-9eb3-8e64e91c5919",
   "metadata": {},
   "source": [
    "Now we can process the sequence using our model. The model maps the sequence of input IDs to a sequence of output vectors, which are contextualised word embeddings. The hidden state values produced in the last hidden layer of the model are used as the contextualised embeddings:"
   ]
  },
  {
   "cell_type": "code",
   "execution_count": 252,
   "id": "494c8335-7c8a-47c2-b450-a3b775f2262f",
   "metadata": {},
   "outputs": [
    {
     "name": "stdout",
     "output_type": "stream",
     "text": [
      "The complete model outputs: \n",
      "BaseModelOutputWithPoolingAndCrossAttentions(last_hidden_state=tensor([[[ 0.3608,  0.2862, -0.1549,  ..., -0.2064,  0.2663, -0.0109],\n",
      "         [ 0.0149,  0.7223, -0.0508,  ..., -0.5505,  0.2355, -0.2962],\n",
      "         [ 0.1531,  0.5903, -0.1244,  ..., -0.4263,  0.0417, -0.1839],\n",
      "         ...,\n",
      "         [ 0.1742, -0.1091, -0.1963,  ..., -0.6736,  0.0472, -0.1840],\n",
      "         [ 0.2434,  0.1021, -0.2241,  ..., -0.5400, -0.1691, -0.1314],\n",
      "         [ 0.0854,  0.3272, -0.3016,  ..., -0.2154, -0.5632, -0.1921]]],\n",
      "       grad_fn=<NativeLayerNormBackward0>), pooler_output=tensor([[-1.1380e-02, -6.3006e-03,  1.8521e-02,  7.1139e-03, -3.1795e-02,\n",
      "          1.3882e-02, -1.5459e-02, -1.0611e-03, -1.8263e-02, -3.6515e-02,\n",
      "         -2.1257e-02, -1.5479e-02, -2.8088e-04, -4.1092e-02, -2.5315e-02,\n",
      "         -4.3338e-02, -1.1616e-03, -1.3931e-02,  6.0733e-03,  4.3790e-03,\n",
      "          2.7091e-04, -2.1810e-02, -4.8026e-02,  2.5493e-02, -1.6502e-02,\n",
      "         -1.2034e-03,  4.2757e-02,  3.0715e-03, -2.3439e-02, -2.5849e-02,\n",
      "         -1.1970e-02,  3.4341e-02, -1.9022e-04, -2.9000e-03, -4.1984e-02,\n",
      "          2.2932e-02,  4.0502e-02,  2.0257e-02, -3.0206e-03, -1.5759e-02,\n",
      "         -4.6124e-02,  6.4128e-03, -1.3939e-02,  4.7155e-02, -2.6471e-03,\n",
      "          3.4991e-03, -4.6633e-03,  8.5901e-03, -5.5664e-02,  9.6635e-03,\n",
      "         -1.9049e-02, -2.3983e-02,  6.6501e-03, -8.3702e-03, -1.4176e-02,\n",
      "          5.6312e-03,  4.2980e-03,  2.4337e-02, -5.4481e-04,  1.1454e-02,\n",
      "         -1.0526e-02, -2.5978e-02, -2.8789e-03, -1.9641e-02, -7.0220e-03,\n",
      "          1.9534e-02,  1.2682e-02, -5.3417e-02, -2.8265e-03,  7.8938e-03,\n",
      "         -4.0802e-02,  3.5494e-02, -8.6865e-03, -1.3383e-02,  1.6433e-03,\n",
      "          5.4637e-03,  1.8293e-02, -1.7385e-02,  3.4079e-02, -3.3782e-02,\n",
      "         -1.4324e-02,  3.0941e-02, -2.2349e-02, -1.4385e-02,  1.6196e-03,\n",
      "          2.3094e-02, -2.1322e-02,  2.5966e-02, -1.5705e-02, -2.1027e-03,\n",
      "         -1.5518e-02,  2.8620e-02,  1.5401e-02, -3.7512e-02, -6.7670e-03,\n",
      "         -8.8313e-03, -1.0061e-02, -1.0518e-02, -1.4193e-02,  4.8184e-02,\n",
      "         -4.2733e-02, -6.8398e-04,  8.1719e-03,  6.9233e-03, -2.9020e-04,\n",
      "         -1.6003e-02, -5.5383e-03,  8.2021e-03,  1.7942e-02, -2.9106e-02,\n",
      "          3.7280e-02,  2.1301e-04,  4.1467e-02, -3.1194e-02, -2.8118e-02,\n",
      "         -1.1518e-02,  4.7534e-02, -2.4884e-02, -2.2532e-02,  1.1021e-02,\n",
      "          4.2616e-02, -2.3387e-02,  3.1372e-02,  2.8327e-03,  9.1082e-03,\n",
      "          2.9967e-02,  1.8475e-02, -6.1313e-02,  1.1888e-02, -1.0234e-02,\n",
      "         -1.7436e-02, -2.5382e-03, -2.0706e-02,  6.2740e-03,  3.5936e-02,\n",
      "         -2.7933e-02,  2.7344e-02,  5.7079e-02, -1.6678e-02,  2.4630e-02,\n",
      "          2.6223e-02,  6.1135e-03,  1.2738e-02, -3.5122e-02, -6.0352e-02,\n",
      "          3.7475e-02, -2.0558e-02, -1.1147e-02, -2.5519e-02, -1.6405e-02,\n",
      "         -5.6022e-03,  3.6427e-02, -3.9644e-03,  6.1233e-03,  1.0637e-02,\n",
      "          2.0472e-02,  3.1075e-03,  1.8298e-02, -7.4328e-03,  1.4522e-02,\n",
      "         -3.2960e-02,  4.0197e-02, -4.9703e-02,  1.5634e-02,  3.3699e-02,\n",
      "          4.1567e-02,  3.4694e-02, -3.8650e-02,  4.7024e-02,  4.5112e-03,\n",
      "         -3.7264e-02, -3.8624e-02, -1.5380e-02,  9.4787e-03, -5.9184e-04,\n",
      "          2.2612e-02,  1.6623e-02,  3.8172e-02,  1.8444e-02, -2.8130e-02,\n",
      "         -8.9476e-04,  9.6280e-03,  1.0078e-02, -3.0724e-02,  2.3116e-02,\n",
      "          2.2716e-02, -2.7906e-02, -2.4386e-02,  6.4443e-03,  4.0045e-02,\n",
      "         -3.8941e-02, -1.3221e-03,  3.2294e-02,  1.9687e-02,  1.5107e-03,\n",
      "          2.2807e-03,  1.1437e-02,  2.1764e-03,  2.4419e-02,  2.5356e-02,\n",
      "         -3.9937e-02,  3.6392e-02, -1.4530e-03,  4.5135e-03, -3.1404e-02,\n",
      "         -2.7645e-02,  3.7107e-02, -2.8359e-02,  2.1804e-02, -2.8085e-02,\n",
      "          2.3142e-02, -3.7059e-02, -3.2632e-02, -3.4501e-02, -5.5988e-03,\n",
      "          4.1899e-03,  6.4628e-04, -4.4314e-02, -4.9819e-02,  2.1470e-02,\n",
      "          1.3016e-02,  1.4301e-02,  1.8736e-02, -5.1865e-03,  1.5026e-02,\n",
      "         -2.1934e-05,  3.7323e-02, -4.4686e-02,  2.5535e-02, -1.6726e-02,\n",
      "          7.3110e-03,  4.8073e-05, -4.0819e-03, -1.7965e-03,  2.8757e-02,\n",
      "          5.1982e-02, -3.4868e-02,  2.4777e-02, -6.2329e-03, -1.9709e-02,\n",
      "         -2.1922e-02,  3.1252e-02,  1.3890e-02, -1.7581e-02,  3.5594e-02,\n",
      "          4.8340e-03,  2.7993e-03, -2.6515e-02, -1.4557e-02, -3.1771e-02,\n",
      "          4.0668e-02,  3.3960e-02,  1.6408e-02,  3.1032e-03, -1.5013e-02,\n",
      "         -9.6832e-03, -1.3780e-02, -3.2977e-02,  1.1426e-02, -4.0551e-03,\n",
      "         -2.4083e-03,  3.5824e-02, -4.9809e-02,  3.7798e-02,  1.7321e-02,\n",
      "          1.0082e-02,  5.8975e-02, -4.2596e-02,  3.6302e-02, -1.2863e-02,\n",
      "         -3.1070e-02,  1.3231e-03, -2.5990e-02, -1.7098e-02, -1.9114e-02,\n",
      "          6.7507e-03,  1.4090e-02,  2.7720e-02,  2.3714e-02, -1.8923e-02,\n",
      "         -2.0685e-02, -4.4664e-02, -1.6670e-02, -1.3620e-02,  1.5473e-02,\n",
      "         -4.4576e-03,  7.4261e-04, -3.9406e-03,  1.4169e-02, -2.6952e-03,\n",
      "         -2.6419e-02,  2.4067e-02,  4.7123e-02,  8.8112e-03,  1.7120e-02,\n",
      "          1.0671e-02, -2.4989e-03,  4.1720e-03, -3.7655e-02,  1.7643e-02,\n",
      "          1.0087e-02, -9.5763e-03, -2.1317e-02, -4.8866e-02, -1.9793e-02,\n",
      "          2.8578e-02,  1.2889e-02, -1.9376e-02,  4.6893e-02, -8.4305e-04,\n",
      "          1.6833e-03,  4.6231e-02]], grad_fn=<TanhBackward0>), hidden_states=None, past_key_values=None, attentions=None, cross_attentions=None)\n",
      "\n",
      "The last hidden state for the first token in the sequence (the first word embedding): \n",
      "tensor([[ 0.3608,  0.2862, -0.1549,  ..., -0.2064,  0.2663, -0.0109],\n",
      "        [ 0.0149,  0.7223, -0.0508,  ..., -0.5505,  0.2355, -0.2962],\n",
      "        [ 0.1531,  0.5903, -0.1244,  ..., -0.4263,  0.0417, -0.1839],\n",
      "        ...,\n",
      "        [ 0.1742, -0.1091, -0.1963,  ..., -0.6736,  0.0472, -0.1840],\n",
      "        [ 0.2434,  0.1021, -0.2241,  ..., -0.5400, -0.1691, -0.1314],\n",
      "        [ 0.0854,  0.3272, -0.3016,  ..., -0.2154, -0.5632, -0.1921]],\n",
      "       grad_fn=<SelectBackward0>)\n"
     ]
    }
   ],
   "source": [
    "model_outputs = model(ids_tensor)\n",
    "print('The complete model outputs: ')\n",
    "print(model_outputs)\n",
    "\n",
    "print()\n",
    "print('The last hidden state for the first token in the sequence (the first word embedding): ')\n",
    "embeddings = model_outputs['last_hidden_state'][0]\n",
    "print(embeddings)"
   ]
  },
  {
   "cell_type": "markdown",
   "id": "1cee4181-7518-484f-993d-f7abffcae010",
   "metadata": {},
   "source": [
    "We can retrieve the embedding vector for \"transform\" like this (\"transform\" is the second token in the sequence):"
   ]
  },
  {
   "cell_type": "code",
   "execution_count": 34,
   "id": "b3df76db-f81e-4916-b31d-34a8341a20db",
   "metadata": {},
   "outputs": [
    {
     "name": "stdout",
     "output_type": "stream",
     "text": [
      "[ 1.49146989e-02  7.22317934e-01 -5.07868007e-02 -2.74206042e-01\n",
      " -1.38931692e-01  1.00099623e+00  7.11511075e-03  2.71392703e-01\n",
      " -3.92816365e-02  6.04106337e-02  1.25740662e-01  4.60632563e-01\n",
      "  6.25249092e-03  1.61929548e-01  1.23912975e-01 -4.08096373e-01\n",
      "  1.24867529e-01 -4.71536100e-01  2.24769399e-01  6.35191500e-02\n",
      "  8.56178403e-02 -1.88044891e-01  1.77257985e-01  3.40049684e-01\n",
      " -1.95546120e-01  1.58554226e-01  9.62866843e-02  1.12648718e-01\n",
      "  2.21045241e-01 -9.56113458e-01 -3.85948360e-01  1.39220908e-01\n",
      "  5.90012252e-01 -8.06728959e-01 -1.34287193e-01  2.35692158e-01\n",
      " -1.02275051e-01  2.78303325e-01  7.94321120e-01 -2.49363333e-01\n",
      "  1.72771603e-01 -2.07582667e-01  3.00157368e-01 -8.59338269e-02\n",
      " -2.25284770e-01 -9.75404754e-02 -3.52349609e-01  3.81161809e-01\n",
      " -3.87680292e-01 -1.77613273e-01 -4.13685918e-01  1.38046771e-01\n",
      "  1.29876360e-02  6.52684271e-01  1.16502658e-01 -5.10778129e-01\n",
      " -8.30419511e-02 -2.67040953e-02  3.12862575e-01 -2.62848616e-01\n",
      " -1.43284917e-01  1.10270359e-01 -1.46888614e-01  8.40613544e-02\n",
      " -5.41599691e-01 -2.74967346e-02 -2.71180719e-01  3.61281335e-01\n",
      "  1.86116487e-01 -2.27869451e-01 -8.60140622e-02  4.15634871e-01\n",
      " -2.35570427e-02  2.90852755e-01 -4.29376006e-01  5.02850413e-01\n",
      "  4.46189255e-01 -3.45921963e-01 -1.07706495e-01  9.98832285e-02\n",
      "  4.75118995e-01  1.42711043e-01  6.47533312e-03  1.91739947e-02\n",
      "  4.32648242e-01 -7.28582889e-02  1.23886988e-01  4.31222051e-01\n",
      " -2.87044197e-01  8.61874580e-01 -3.77015352e-01 -2.96231151e-01\n",
      " -6.53616786e-02 -1.08727470e-01 -5.34366608e-01  2.30698645e-01\n",
      " -4.43287902e-02  8.28585401e-03 -4.80109870e-01  6.32635057e-02\n",
      "  3.46862108e-01 -1.00407228e-02  2.46483803e-01  1.04728356e-01\n",
      "  5.85355014e-02 -1.73106641e-01 -1.63396731e-01 -1.42522097e-01\n",
      " -1.41767800e-01  5.59851304e-02  2.56438971e-01 -3.92890453e-01\n",
      " -3.47414702e-01 -5.97775161e-01 -1.29221544e-01 -3.44478995e-01\n",
      "  7.78063536e-02  2.47690782e-01  3.36303055e-01 -1.69770569e-01\n",
      "  5.26943132e-02 -4.30812925e-01 -7.06476629e-01  2.43620295e-02\n",
      " -2.37541616e-01 -3.28975916e-01  1.46831632e-01  4.63140070e-01\n",
      " -7.27382153e-02  4.38397229e-02  4.04199734e-02 -3.49183790e-02\n",
      " -5.20075262e-02 -1.70057639e-01  3.05903777e-02  9.56195295e-02\n",
      "  1.73355973e+00  2.14067325e-01  6.37334287e-02  5.80559134e-01\n",
      " -9.82588381e-02 -4.88570511e-01  2.82072127e-01  2.64478534e-01\n",
      "  3.23805720e-01 -2.94938684e-01  1.32838309e-01 -3.09569314e-02\n",
      "  1.98949769e-01  1.01507381e-01  3.46358389e-01  4.12194192e-01\n",
      " -2.06009924e-01  1.38656527e-01  8.95747691e-02 -9.03500915e-02\n",
      "  1.60654262e-02  1.04298443e-01  5.76754630e-01  4.83328640e-01\n",
      "  1.27747387e-01 -4.36363667e-02  2.58014202e-01 -7.33284801e-02\n",
      " -3.81113529e-01 -4.86678407e-02  5.54443240e-01 -2.71802023e-02\n",
      " -3.28379363e-01  1.03764713e-01 -7.67533630e-02 -2.55299598e-01\n",
      " -4.58066195e-01 -6.74324036e-02 -5.92072159e-02 -5.33050671e-02\n",
      "  7.31044769e-01 -4.37689312e-02  1.48426905e-01 -6.68218553e-01\n",
      "  5.39264739e-01 -5.51167905e-01  3.07090014e-01 -2.95280755e-01\n",
      "  2.30028898e-01  4.45130438e-01  5.98990060e-02  3.32110107e-01\n",
      "  3.09372842e-01  7.49413013e-01  6.80034578e-01  2.81823635e-01\n",
      " -1.52892500e-01 -2.78218895e-01  1.57606095e-01 -3.44326235e-02\n",
      " -4.25326198e-01  3.65775079e-01 -6.05309047e-02 -2.44895726e-01\n",
      " -9.54145193e-02  2.14865997e-01  3.48817706e-02  4.22627389e-01\n",
      "  1.17061570e-01  1.53851539e-01  4.89412904e-01 -4.79474515e-02\n",
      " -4.35449868e-01  1.52307212e-01 -3.75605136e-01 -2.00070500e-01\n",
      " -4.52390134e-01 -9.23970863e-02  7.94973075e-02 -3.91879827e-01\n",
      "  2.03301311e-01  5.86735427e-01  1.18403323e-02 -3.49965572e-01\n",
      " -1.03553385e-02  1.67386219e-01  1.03552029e-01  1.20486226e-02\n",
      "  2.16728240e-01 -6.50200546e-02 -3.98292512e-01 -2.12186232e-01\n",
      "  1.36508644e-02 -5.55399418e-01 -2.92274892e-01  1.41717240e-01\n",
      "  5.35453916e-01  2.17892081e-01 -4.19899106e-01 -3.32855105e-01\n",
      "  3.76726329e-01 -3.19371223e-01 -3.27617288e-01  4.93490815e-01\n",
      "  1.59246787e-01  7.08295107e-01 -1.90098271e-01  5.06710112e-01\n",
      " -6.10249221e-01 -6.68386817e-02  1.14125752e+00  8.79681781e-02\n",
      " -1.85307682e-01 -1.45169973e-01  2.87573576e-01 -4.92560625e-01\n",
      "  3.61898430e-02  2.62837708e-01 -2.52177984e-01  6.15256429e-02\n",
      " -3.54109555e-01 -3.53945673e-01  1.98718786e-01  1.07959294e+00\n",
      "  1.29683304e+00  3.58776748e-01  6.75653756e-01  2.51169950e-01\n",
      " -5.65679550e-01 -4.81560856e-01  3.10951889e-01 -1.07663184e-01\n",
      " -3.67721349e-01  8.12473744e-02 -4.20884460e-01  5.78671098e-01\n",
      "  9.49732810e-02  1.65470183e-01  3.70412558e-01 -7.44723761e-03\n",
      "  4.63329256e-01 -2.38428801e-01  4.81730253e-02 -1.74412847e-01\n",
      "  8.61786455e-02 -1.35659397e-01  2.68296093e-01  2.98456401e-01\n",
      "  6.36236370e-01  2.79196441e-01 -1.57059923e-01 -2.91060627e-01\n",
      " -1.38484001e-01 -9.19550285e-02 -3.60317290e-01 -3.03814948e-01\n",
      "  2.38155156e-01  3.61208797e-01  1.53049946e-01  5.15781567e-02\n",
      " -1.36765465e-03  9.56990048e-02 -3.30190182e-01  3.86730105e-01\n",
      " -2.75556266e-01  3.30927610e-01 -2.23884702e-01 -4.71362859e-01\n",
      "  8.31373483e-02 -2.26590261e-01  2.15096921e-01  2.63798803e-01\n",
      "  3.72822613e-01 -5.50536811e-01  2.35453337e-01 -2.96165437e-01]\n",
      "The TinyBERT embeddings have 312 dimensions.\n"
     ]
    }
   ],
   "source": [
    "emb = embeddings[1]  # get second embedding in the sequence\n",
    "\n",
    "# convert it to a numpy array so we can perform various operations on it later on\n",
    "emb = emb.detach().numpy()\n",
    "\n",
    "print(emb)\n",
    "print(f'The TinyBERT embeddings have {emb.shape[0]} dimensions.')"
   ]
  },
  {
   "cell_type": "markdown",
   "id": "adc1d779-8ec7-462a-895b-e58a88d9bb63",
   "metadata": {},
   "source": [
    "TO-DO 4b: Retrieve the embedding for \"architecture\" (this to-do will not be marked)."
   ]
  },
  {
   "cell_type": "code",
   "execution_count": 253,
   "id": "827ca93a-d80d-4655-a417-6c6c6d1e07f7",
   "metadata": {},
   "outputs": [
    {
     "name": "stdout",
     "output_type": "stream",
     "text": [
      "[ 2.71386623e-01  7.74581969e-01 -3.24256986e-01 -7.14323372e-02\n",
      " -4.95713204e-04  9.37310040e-01 -4.40213643e-03 -4.26920839e-02\n",
      "  1.27402283e-02  1.89264063e-02  1.02528736e-01  4.54656899e-01\n",
      "  2.70435750e-01  2.30988830e-01  4.03643958e-03 -1.08995616e-01\n",
      " -4.59914207e-02 -3.51154298e-01 -1.34710521e-01  8.29390585e-02\n",
      "  1.86496526e-01  5.00277281e-02  7.21668378e-02  2.28657812e-01\n",
      " -2.19697237e-01  9.40194428e-02  1.65540382e-01  1.85794443e-01\n",
      "  3.17783386e-01 -5.09366930e-01 -5.00949264e-01  1.52488053e-01\n",
      "  4.57998842e-01 -8.51876020e-01 -1.58632264e-01  1.58965096e-01\n",
      "  4.16190289e-02  2.30997831e-01  8.78503025e-01 -6.23165891e-02\n",
      "  1.87219098e-01 -1.23371631e-02  2.10084453e-01  3.48072127e-02\n",
      " -2.51239985e-01 -1.37914240e-01 -3.88697296e-01  2.98189580e-01\n",
      " -2.92032897e-01 -3.19503605e-01 -1.98434696e-01  1.32033080e-01\n",
      " -6.46374822e-02  7.43182719e-01  7.14235753e-02 -3.02117765e-01\n",
      "  3.49781513e-01 -5.81784919e-02  2.85068393e-01 -4.09581661e-01\n",
      " -1.03296652e-01  1.03767566e-01 -2.22905725e-01  8.86322558e-02\n",
      " -4.33601707e-01  2.17866659e-01 -2.76991874e-01  3.99588645e-01\n",
      "  1.69203520e-01 -3.05192411e-01 -2.66391516e-01  7.28380799e-01\n",
      " -2.11687639e-01  3.97849262e-01 -5.89086771e-01  4.29775059e-01\n",
      "  4.25439209e-01 -2.14259222e-01 -9.17089209e-02  2.12370411e-01\n",
      "  4.30577517e-01 -1.41512141e-01  2.11001821e-02  1.92521408e-01\n",
      "  3.87896031e-01 -2.28492901e-01  2.32071996e-01  4.97907847e-01\n",
      " -1.22621745e-01  5.94609261e-01 -3.73322457e-01 -3.34645122e-01\n",
      " -1.71525478e-01 -1.55618027e-01 -6.56990588e-01  1.63026661e-01\n",
      " -1.98492967e-02 -1.46204010e-01 -4.47817594e-01  1.86819807e-01\n",
      "  2.59208530e-01  8.59285295e-02  3.39515954e-01 -1.29848599e-01\n",
      " -1.14089012e-01 -2.00276747e-01 -2.15664506e-01 -5.63761629e-02\n",
      " -1.07931353e-01 -4.68205288e-02  2.56857544e-01 -2.77532637e-01\n",
      " -2.11162400e-02 -5.35417557e-01 -7.24154413e-02 -4.13409829e-01\n",
      "  1.73524395e-01  1.13118514e-01  2.38801107e-01 -2.24455491e-01\n",
      "  8.62926170e-02  1.15331039e-02 -3.62385482e-01  2.29010597e-01\n",
      " -3.50628048e-01 -3.97162974e-01 -5.64044155e-03  5.43279171e-01\n",
      "  4.42471281e-02  2.74848640e-01 -4.32898365e-02 -8.17528367e-02\n",
      "  2.26517394e-01 -2.17810482e-01 -2.09804535e-01  3.68050814e-01\n",
      "  1.74909055e+00  2.32437775e-01  4.12015021e-02  4.28760290e-01\n",
      " -7.73497149e-02 -3.94460201e-01  4.56216484e-01  3.94748628e-01\n",
      "  3.47979933e-01 -1.98664650e-01  1.66275352e-02  4.17212211e-02\n",
      "  2.80723482e-01  1.72675669e-01  3.71788710e-01  4.58931029e-01\n",
      " -2.03692019e-01  2.08810672e-01  1.32481575e-01  4.34770249e-03\n",
      " -1.48096874e-01  1.11546785e-01  5.05591273e-01  6.24570668e-01\n",
      "  5.56756034e-02 -1.93018556e-01  1.44752786e-01 -2.42131993e-01\n",
      " -3.77228469e-01 -8.83382186e-02  3.18629146e-01  1.29289925e-03\n",
      " -4.68145132e-01  1.09013751e-01 -9.88205001e-02  4.33954112e-02\n",
      " -5.95691562e-01 -6.29971474e-02  1.90069973e-01 -6.22255690e-02\n",
      "  4.44376022e-01 -4.45068441e-02  3.63638774e-02 -7.49729097e-01\n",
      "  6.06420338e-01 -5.94442427e-01  2.27024689e-01 -3.24531078e-01\n",
      "  2.27764860e-01  2.53754497e-01  3.37925442e-02  3.54703486e-01\n",
      "  1.48369685e-01  8.01495016e-01  7.37675071e-01  3.16927612e-01\n",
      " -4.65495735e-01 -2.19995707e-01  8.55115280e-02  7.90397823e-02\n",
      " -4.21971530e-01  3.00321847e-01 -1.64273567e-02 -3.05001616e-01\n",
      " -1.29668653e-01  5.97733445e-02  2.27802679e-01  2.51437366e-01\n",
      "  1.32936850e-01  1.77337423e-01  5.35019696e-01 -1.26853824e-01\n",
      " -3.70967448e-01  1.97891742e-01 -5.81951141e-01 -8.73131379e-02\n",
      " -4.38537657e-01  4.81506772e-02  4.27307934e-02 -3.52274030e-01\n",
      "  9.06555653e-02  8.38537097e-01  1.90427691e-01 -3.27884436e-01\n",
      "  5.39014302e-02  2.09420443e-01  2.61073470e-01  1.41681850e-01\n",
      "  2.57946402e-01  1.15054622e-01 -2.29461551e-01 -3.17161590e-01\n",
      "  2.03591391e-01 -4.94223952e-01 -1.88396126e-01  3.99251014e-01\n",
      "  3.61400604e-01  1.02145746e-01 -6.39539897e-01 -4.55038637e-01\n",
      "  3.48606765e-01 -3.01878303e-01 -3.11838329e-01  5.37507236e-01\n",
      "  1.79695398e-01  9.53896880e-01 -9.25655961e-02  2.97179759e-01\n",
      " -4.64271486e-01 -1.54977351e-01  1.04017878e+00 -5.71006536e-02\n",
      " -1.25494331e-01 -1.59981385e-01  3.02586973e-01 -6.54341996e-01\n",
      "  8.33001584e-02  2.96592295e-01 -2.88193136e-01 -5.19615412e-02\n",
      " -1.16057828e-01 -4.02867079e-01 -1.85667984e-02  8.54045093e-01\n",
      "  1.04417515e+00  2.02207074e-01  3.87416184e-01  2.76725352e-01\n",
      " -6.04186893e-01 -4.56754029e-01  1.98381156e-01 -1.97067380e-01\n",
      " -2.95010924e-01  2.78942585e-01 -6.31202459e-01  5.56933641e-01\n",
      "  2.03483328e-01  9.17811766e-02  2.54568815e-01 -3.95414233e-02\n",
      "  2.62133241e-01 -2.75719553e-01  3.52464259e-01 -3.85205507e-01\n",
      "  2.10844800e-01 -8.33579153e-03  2.20536247e-01 -2.24062428e-02\n",
      "  5.56667686e-01  1.01012707e-01 -7.73577914e-02 -4.63616192e-01\n",
      " -3.20620507e-01 -5.78195602e-02 -2.29295671e-01 -2.77261913e-01\n",
      "  1.52325228e-01  4.02600408e-01  1.10904247e-01  1.83825538e-01\n",
      " -3.95607129e-02  1.69767831e-02 -5.05566955e-01  6.35556132e-02\n",
      "  6.98357448e-02  5.73959529e-01 -1.97177410e-01 -3.72904629e-01\n",
      "  1.01819448e-01 -1.72659561e-01  2.11300641e-01  1.70526564e-01\n",
      "  2.35796675e-01 -4.73861396e-01 -1.39763027e-01 -2.52476811e-01]\n"
     ]
    }
   ],
   "source": [
    "emb_architecture = embeddings[3].detach().numpy()\n",
    "print(emb_architecture)"
   ]
  },
  {
   "cell_type": "markdown",
   "id": "31c79402-f6b7-4fc3-9f47-50fcffccbe68",
   "metadata": {},
   "source": [
    "Sentences and documents usually have varying lengths. So, to put multiple sentences into a single tensor, we need to pad the sequences up to a maximum length. Luckily, the tokenizer class takes care of this for us. When we pass in a list of sentences, the tokenizer creates a matrix, where each row is a sequence of the same length:"
   ]
  },
  {
   "cell_type": "code",
   "execution_count": 256,
   "id": "c03abaed-6738-44ab-a7dd-7775743f99ba",
   "metadata": {},
   "outputs": [
    {
     "name": "stdout",
     "output_type": "stream",
     "text": [
      "{'input_ids': tensor([[  101,  2027,  2363,  1037,  5414,  2013,  1996,  2924,  1012,   102,\n",
      "             0,     0,     0,     0,     0,     0],\n",
      "        [  101,  2009,  2001,  2025,  2204,  2005,  2593,  2010,  2924,  5703,\n",
      "          2030,  2010,  2668,  3778,  1012,   102],\n",
      "        [  101,  2016,  2939,  2247,  1996,  2924,  1997,  1996,  2314,  2875,\n",
      "          1996,  2103,  1012,   102,     0,     0],\n",
      "        [  101,  2027,  2924,  2037, 18178, 10997,  2006,  9432,  2015,  1012,\n",
      "           102,     0,     0,     0,     0,     0],\n",
      "        [  101,  2016,  2939,  2247,  1996, 22756,  2875,  1996,  2103,  1012,\n",
      "           102,     0,     0,     0,     0,     0]]), 'token_type_ids': tensor([[0, 0, 0, 0, 0, 0, 0, 0, 0, 0, 0, 0, 0, 0, 0, 0],\n",
      "        [0, 0, 0, 0, 0, 0, 0, 0, 0, 0, 0, 0, 0, 0, 0, 0],\n",
      "        [0, 0, 0, 0, 0, 0, 0, 0, 0, 0, 0, 0, 0, 0, 0, 0],\n",
      "        [0, 0, 0, 0, 0, 0, 0, 0, 0, 0, 0, 0, 0, 0, 0, 0],\n",
      "        [0, 0, 0, 0, 0, 0, 0, 0, 0, 0, 0, 0, 0, 0, 0, 0]]), 'attention_mask': tensor([[1, 1, 1, 1, 1, 1, 1, 1, 1, 1, 0, 0, 0, 0, 0, 0],\n",
      "        [1, 1, 1, 1, 1, 1, 1, 1, 1, 1, 1, 1, 1, 1, 1, 1],\n",
      "        [1, 1, 1, 1, 1, 1, 1, 1, 1, 1, 1, 1, 1, 1, 0, 0],\n",
      "        [1, 1, 1, 1, 1, 1, 1, 1, 1, 1, 1, 0, 0, 0, 0, 0],\n",
      "        [1, 1, 1, 1, 1, 1, 1, 1, 1, 1, 1, 0, 0, 0, 0, 0]])}\n"
     ]
    }
   ],
   "source": [
    "sentences = [\n",
    "    \"They received a loan from the bank.\",\n",
    "    \"It was not good for either his bank balance or his blood pressure.\",\n",
    "    \"She walked along the bank of the river towards the city.\",\n",
    "    \"They bank their cheques on Thursdays.\",\n",
    "    \"She walked along the embankment towards the city.\"\n",
    "]\n",
    "\n",
    "model_inputs = tokenizer(sentences, padding=True, truncation=True, return_tensors=\"pt\")  \n",
    "\n",
    "print(model_inputs)"
   ]
  },
  {
   "cell_type": "markdown",
   "id": "a59a44fc-218e-462d-86ef-fee203417bb6",
   "metadata": {},
   "source": [
    "`model_inputs` is a dictionary containing three objects:\n",
    " * The `input_ids` are the list of token IDs in the input sequences. \n",
    " * The `attention_mask` records which tokens are special padding tokens and which are real tokens. Tokens with a 0 in the attention mask will be ignored.\n",
    " * `token_type_ids` is needed when two sequences are passed together as input to the model for tasks such as next sentence prediction that involve comparing two sentences. Here, each input is a single sentence, so we have only one type of token in the output above. \n",
    " \n",
    "TO-DO 4c: What value do the special padding tokens have? (this to-do is unmarked)\n",
    "\n",
    "ANSWER: 0\n",
    "\n",
    "---\n",
    "\n",
    "Notice that the input_ids all start with the same token ID, 101, even though they have different first words. They also have token ID 102 before the padding tokens. This is because the tokenizer inserts two special tokens, which are used in some applicaions of BERT. 101 is the '[CLS]' token, which is a dummy token whose embedding can be trained to represent the whole sequence. the [CLS] token's embedding can then be used as input to a text classifier to classify a sentence or document. Token 102 is '[SEP]', which can be used to separate multiple input sequences in a single example. This is needed in tasks where multiple pieces of text are provided as input, e.g., a to build a classifier that can determine whether two sentences contradict each other. \n",
    "\n",
    "We can now pass all of the model inputs to the model to produce a set of contextualised embeddings:"
   ]
  },
  {
   "cell_type": "code",
   "execution_count": 257,
   "id": "b888b7cf-54d1-450b-9431-e64629177d93",
   "metadata": {},
   "outputs": [],
   "source": [
    "# model_inputs is a dictionary, so to provide the arguments to model(), \n",
    "# we use the double star to unpack the dictionary so that each key in the dictionary is\n",
    "# an argument to model() and each value is the value of the argument. \n",
    "model_outputs = model(**model_inputs) "
   ]
  },
  {
   "cell_type": "markdown",
   "id": "84a8eb74-ce63-459c-9fb3-05fd2768ddf8",
   "metadata": {},
   "source": [
    "**TO-DO 4d:** The first four example sentences above all contain the word \"bank\", and the last example contains \"embankment\". Obtain a list of contextualised word embeddings for 'bank' and 'embankment' in the example sentences using our model. **(4 marks)**\n",
    "\n",
    "Hint: you may need to convert tensors to numpy arrays."
   ]
  },
  {
   "cell_type": "code",
   "execution_count": 258,
   "id": "5f0297da-4106-41ef-8f61-5aa3fbb2cc1d",
   "metadata": {},
   "outputs": [],
   "source": [
    "#WRITE YOUR OWN CODE HERE\n",
    "idxs = []\n",
    "\n",
    "for sentence in sentences:\n",
    "    tokens = tokenizer.tokenize(sentence)  # tokenise each sentence\n",
    "    for i, token in enumerate(tokens):\n",
    "        if token == 'bank' or 'embankment':\n",
    "            idxs.append(i)  # get the token in each sentence for either 'bank' or 'embankment'\n",
    "\n",
    "embeddings = []\n",
    "\n",
    "for i, output in enumerate(model_outputs['last_hidden_state']):\n",
    "    embeddings.append(output[idxs[i+1]].detach().numpy())  # get the embedding for the token (stored in last_hidden_state of output)"
   ]
  },
  {
   "cell_type": "markdown",
   "id": "5ac47b72-46a3-40ee-b081-bca17da0b49b",
   "metadata": {},
   "source": [
    "**TO-DO 4e:** Compute the similarities between these embeddings in the cell below, and show the results. Which embeddings are most similar to one another and why? **(6 marks)**\n",
    "\n",
    "**ANSWER:** Sentence 3 and sentence 5 are the most similar. This is because are the most contextually similar as they both represent the idea of walking along the bank of a river even though they are fundamentally different words ('bank' vs 'embankment').\n"
   ]
  },
  {
   "cell_type": "code",
   "execution_count": 264,
   "id": "c5a9c5c1-b6b2-4df4-8729-0f0615b5e161",
   "metadata": {},
   "outputs": [
    {
     "name": "stdout",
     "output_type": "stream",
     "text": [
      "S1, S2: 0.31865963339805603\n",
      "S1, S3: 0.1883321851491928\n",
      "S1, S4: 0.2595188319683075\n",
      "S1, S5: 0.17240209877490997\n",
      "S2, S3: 0.17107850313186646\n",
      "S2, S4: 0.1947207897901535\n",
      "S2, S5: 0.11836692690849304\n",
      "S3, S4: 0.258332759141922\n",
      "S3, S5: 0.44357869029045105\n",
      "S4, S5: 0.3239094614982605\n"
     ]
    }
   ],
   "source": [
    "def cos_sim(a, b):  # function for cosine-similarity from notebook 1\n",
    "    dot_p = np.dot(a, b)\n",
    "    norm_mult = np.linalg.norm(a) * np.linalg.norm(b)\n",
    "    return dot_p / norm_mult\n",
    "\n",
    "\"\"\"\n",
    "Code below loops through each embedding and computes the cosine similarity for each pair of tokens\n",
    "\"\"\"\n",
    "for i in range(len(embeddings)):\n",
    "    for j in range(i + 1, len(embeddings)):\n",
    "        print(f'S{i+1}, S{j+1}: {cos_sim(embeddings[i], embeddings[j])}')"
   ]
  },
  {
   "cell_type": "markdown",
   "id": "680d6407-24ea-41f5-a16e-d03fe15aa124",
   "metadata": {},
   "source": [
    "**TO-DO 4f:** Use the [CLS] token's embedding to find the most similar **sentence** to \"She walked along the embankment towards the city.\" from the first four sentences. Print the similarities and the selected sentence. **(3 marks)**"
   ]
  },
  {
   "cell_type": "code",
   "execution_count": 265,
   "id": "32808677-1efb-49aa-a384-cd8ca1632d0c",
   "metadata": {},
   "outputs": [
    {
     "name": "stdout",
     "output_type": "stream",
     "text": [
      "Similarity to sentence 1: 0.9093042016029358\n",
      "Similarity to sentence 2: 0.793634831905365\n",
      "Similarity to sentence 3: 0.9947959780693054\n",
      "Similarity to sentence 4: 0.8988917469978333\n"
     ]
    }
   ],
   "source": [
    "cls_embeddings = []\n",
    "\n",
    "for i, output in enumerate(model_outputs['last_hidden_state']):\n",
    "    cls_embeddings.append(output[0].detach().numpy())  # get the CLS token stored in the first index of each sentence\n",
    "\n",
    "for i in range(0, len(cls_embeddings) - 1):\n",
    "    print(f'Similarity to sentence {i+1}: {cos_sim(cls_embeddings[i], cls_embeddings[4])}')  # compute each pairwise cosine similarity for each pairwise combination of sentences"
   ]
  },
  {
   "cell_type": "markdown",
   "id": "6ada5c4f",
   "metadata": {},
   "source": [
    "**ANSWER:** Selected sentence is sentence 3 as it has the highest cosine similarity to sentence 5 (0.995)."
   ]
  },
  {
   "cell_type": "markdown",
   "id": "c768029d-395e-4eb9-ac1b-7c72e81dcd01",
   "metadata": {},
   "source": [
    "# 5. Question Answering with Pretrained Transformers (max. 11 marks)\n",
    "\n",
    "The previous section showed us how to obtain a sequence of contextualised word embeddings using a pretrained transformer. How are these embeddings used to extract answers from documents to a given question?\n",
    "\n",
    "First, let's load up the [Tweet QA](https://huggingface.co/datasets/tweet_qa) dataset, which we will use to test a pretrained question answering (QA) model. This dataset contains tweets along with questions about the information in the tweets, and a list of correct answers. As we are not going to train our own QA model (it requires a lot of compute time), we will only need the validation set:"
   ]
  },
  {
   "cell_type": "code",
   "execution_count": 266,
   "id": "5bdc0e14-0241-44f7-97f1-745a33312700",
   "metadata": {},
   "outputs": [
    {
     "name": "stderr",
     "output_type": "stream",
     "text": [
      "Found cached dataset tweet_qa (C:/Users/Morg/OneDrive/Documents/MSc/TB2/advanced_data_analytics/text_analytics/advanced-labs-public/data_cache/tweet_qa/default/1.0.0/7d588f7f477946b10f60c035ca55175737315ac446102b015218af38d2638777)\n"
     ]
    },
    {
     "name": "stdout",
     "output_type": "stream",
     "text": [
      "Validation dataset with 1086 instances loaded\n"
     ]
    }
   ],
   "source": [
    "from sklearn.metrics import f1_score\n",
    "\n",
    "val_dataset = load_dataset(\n",
    "    \"tweet_qa\",\n",
    "    split=\"validation\",\n",
    "    ignore_verifications=True,\n",
    "    cache_dir=cache_dir,\n",
    ")\n",
    "print(f\"Validation dataset with {len(val_dataset)} instances loaded\")"
   ]
  },
  {
   "cell_type": "markdown",
   "id": "1e2f2f2c-8f39-49b0-8391-33773171c5a9",
   "metadata": {},
   "source": [
    "Now we are working with complete dataset using the HuggingFace datasets library. In the next cell, we create a tokenizer to tokenize the examples in the dataset. We need to choose the right tokenizer for the QA model we want to use, so let's decide to use `\"distilbert-base-cased-distilled-squad\"` as our pretrained model. This is based on a smaller version of BERT, called Distilbert, which was fine-tuned on the SQUAD question answering dataset."
   ]
  },
  {
   "cell_type": "code",
   "execution_count": 267,
   "id": "1993c3b2-3454-4cd2-81ed-020342ca3246",
   "metadata": {},
   "outputs": [],
   "source": [
    "from transformers import AutoTokenizer\n",
    "\n",
    "tokenizer = AutoTokenizer.from_pretrained(\"distilbert-base-cased-distilled-squad\") \n",
    "\n",
    "def tokenize_function(dataset):\n",
    "    # Pass two strings to the tokenizer -- it will concatenate them with a [SEP] special token between them. \n",
    "    model_inputs = tokenizer(dataset['Question'], dataset['Tweet'], padding=\"max_length\", max_length=200, truncation='only_second')\n",
    "    return model_inputs"
   ]
  },
  {
   "cell_type": "markdown",
   "id": "73fb870b-1812-413a-be0c-c4868b441fe8",
   "metadata": {},
   "source": [
    "Again, we can use the `map()` method to apply the tokenizer to each example in the dataset. "
   ]
  },
  {
   "cell_type": "code",
   "execution_count": 268,
   "id": "617d4300-3994-44a4-8e14-d1835bfbc2a3",
   "metadata": {},
   "outputs": [
    {
     "name": "stderr",
     "output_type": "stream",
     "text": [
      "Loading cached processed dataset at C:\\Users\\Morg\\OneDrive\\Documents\\MSc\\TB2\\advanced_data_analytics\\text_analytics\\advanced-labs-public\\data_cache\\tweet_qa\\default\\1.0.0\\7d588f7f477946b10f60c035ca55175737315ac446102b015218af38d2638777\\cache-da98121affcce4b7.arrow\n"
     ]
    }
   ],
   "source": [
    "val_dataset = val_dataset.map(tokenize_function, batched=True) "
   ]
  },
  {
   "cell_type": "markdown",
   "id": "510ccaf0-fc74-405b-b72f-f03328d6622a",
   "metadata": {
    "tags": []
   },
   "source": [
    "The type of QA model we are going to work with is _extractive_, meaning that the model will extract the answer from the 'context' (also known as the 'passage' or 'source document'). It does this by identifying the index of the start and end tokens of the answer span within the context, or returning `(0, 0)` (the index 0 for both the start and end token) if the context does not contain an answer to the given question. \n",
    "\n",
    "As explained in the lectures, BERT forms the basis of the QA model, and maps each token to a contextualised embedding. The QA model then maps each token's contextualised embedding to the probability that the token is the start of the answer span, and to the probability that the token is the end of the answer span. The layers that map the embeddings to the start and end probabilities are known as the 'head' of the model. [The original BERT paper](https://arxiv.org/pdf/1810.04805.pdf) depicts the QA model like this (Devlin et al., 2018):\n",
    "\n",
    "<img src=\"bert_qa.png\" alt=\"BERT QA diagram from the slides in week 10 showing the embedding of each token connected to the start and end output layers\" width=\"400px\"/>\n",
    "\n",
    "We can see a similar structure in most neural network models. Our original text classifier from the first notebook used a fully-connected layer to produce a hidden representation of the whole sentence (rather than using BERT to produce a sequence of embeddings). This hidden representation was then fed to an output layer to produce a probability distribution over class labels (rather than the start and end probabilities):\n",
    "\n",
    "<img src=\"neural_text_classifier_smaller.png\" alt=\"Neural text classifier diagram from the slides in lecture 8.1\" width=\"400px\"/>\n",
    "\n",
    "\n",
    "<!--With transformers, \n",
    "we can do something very similar, by connecting the transfomer's output to a fully-connected layer. However, with BERT, we do not need to pass the embedding of each individual word to the fully-connected layer because there is a special [CLS] token that represents the whole sentence:\n",
    "\n",
    "The code below shows how to access a tensor containing the [CLS] embeddings:-->"
   ]
  },
  {
   "cell_type": "markdown",
   "id": "2dff251c-ccd2-4e0c-ab2b-a1bd1cc38101",
   "metadata": {},
   "source": [
    "Now, we have the dataset in the right format, let's see how to load a pretrained QA model based on a pretrained transformer. The QA model was trained by taking a pretrained BERT model (pretrained on masked language modelling with unlabelled text), adding the QA head, then further training the complete model on a QA dataset. \n",
    "\n",
    "The transformers library provides some useful wrapper classes for loading pretrained models for various NLP tasks, such as QA or text classification. These 'auto' classes are documented here: https://huggingface.co/docs/transformers/model_doc/auto . Let's use an auto class to load the `\"distilbert-base-cased-distilled-squad\"` pretrained QA model (this code will try to reload the model from a cache or download the model from HuggingFace):"
   ]
  },
  {
   "cell_type": "code",
   "execution_count": 269,
   "id": "46229f2c-86f0-4150-9b1d-72b0df714ae3",
   "metadata": {},
   "outputs": [],
   "source": [
    "from transformers import AutoModelForQuestionAnswering\n",
    "\n",
    "model = AutoModelForQuestionAnswering.from_pretrained(\"distilbert-base-cased-distilled-squad\")"
   ]
  },
  {
   "cell_type": "markdown",
   "id": "2e3b470e-d580-492f-807e-466cd2193ab3",
   "metadata": {},
   "source": [
    "As our model was pretrained, we can use it directly on our Tweet_QA dataset (you may see a message to this effect when you run the cell above the first time). \n",
    "\n",
    "So, how do we get a prediction from the model? Let's take a single example from Tweet_QA and obtain the start and end probabilities for all tokens in the 'context':"
   ]
  },
  {
   "cell_type": "code",
   "execution_count": 270,
   "id": "ef26c556-7230-40b3-a06a-0e823556415b",
   "metadata": {},
   "outputs": [],
   "source": [
    "def predict_nn(qa_model, dataset):\n",
    "    \n",
    "    # Switch off dropout\n",
    "    qa_model.eval()\n",
    "\n",
    "    # Pass the required inputs from the dataset to the model    \n",
    "    output = qa_model(attention_mask=torch.tensor(dataset[\"attention_mask\"]), input_ids=torch.tensor(dataset[\"input_ids\"]))\n",
    "        \n",
    "    # the output dictionary contains logits, which are the unnormalised scores for each class for each example:\n",
    "    probs_start = torch.nn.Softmax(dim=1)(output[\"start_logits\"]).detach().numpy()\n",
    "    probs_end = torch.nn.Softmax(dim=1)(output[\"end_logits\"]).detach().numpy()\n",
    "        \n",
    "    return probs_start, probs_end\n",
    "\n",
    "# Run the prediction function to get the results for the first 20 examples:\n",
    "probs_start, probs_end = predict_nn(model, val_dataset[0:20])"
   ]
  },
  {
   "cell_type": "markdown",
   "id": "6ad86be8-d404-43ea-a341-8e46603478f8",
   "metadata": {},
   "source": [
    "Now that we have the probabilities that each token is a start or end token, we combine these probabilities to estimate the probability of each possible answer span. This will allow us to choose the answer span with highest probability. \n",
    "\n",
    "In the next cell is our first attempt, which you will need to improve to get valid answers. This code loops through each possible combination of start and end tokens, obtains the start and end probabilities, and extracts the answer text for the corresponding span.\n",
    "\n",
    "**TO-DO 5a:** Use the start and end probabilities to compute the answer span probability at the place marked inside the predict_answer() function below. **2 marks**"
   ]
  },
  {
   "cell_type": "code",
   "execution_count": 271,
   "id": "660f8ada-810d-4764-b0c2-ac7b291ed9dd",
   "metadata": {},
   "outputs": [
    {
     "name": "stdout",
     "output_type": "stream",
     "text": [
      "CONTEXT = The #endangeredriver would be a sexy bastard in this channel if it had water. Quick turns. Narrow. (I'm losing it) John D. Sutter (@jdsutter) June 21, 2014\n",
      "QUESTION = what hashtag was used?\n",
      "LIST OF POSSIBLE ANSWERS = ['#endangeredriver', '#endangereddriver']\n"
     ]
    }
   ],
   "source": [
    "# our example:\n",
    "example_index = 3\n",
    "\n",
    "example = val_dataset[example_index]\n",
    "print(f'CONTEXT = {example[\"Tweet\"]}')\n",
    "print(f'QUESTION = {example[\"Question\"]}')\n",
    "print(f'LIST OF POSSIBLE ANSWERS = {example[\"Answer\"]}')"
   ]
  },
  {
   "cell_type": "code",
   "execution_count": 272,
   "id": "22088d8f-ac0a-43b5-9f7e-1a71feec8f40",
   "metadata": {},
   "outputs": [
    {
     "name": "stdout",
     "output_type": "stream",
     "text": [
      "Span prob = 0.5619068145751953, answer = endangeredriver\n",
      "Span prob = 0.1524379700422287, answer = The # endangeredriver\n",
      "Span prob = 0.12783248722553253, answer = # endangeredriver\n",
      "Span prob = 0.04335261508822441, answer = \n",
      "Span prob = 0.01834719628095627, answer = endangeredriver would be a sexy bastard in this channel if it had water. Quick turns. Narrow\n",
      "Span prob = 0.014453954994678497, answer = \n",
      "Span prob = 0.007982296869158745, answer = endangeredriver would be a sexy bastard in this channel if it had water. Quick turns\n",
      "Span prob = 0.0077003296464681625, answer = endangeredriver would be a sexy bastard in this channel if it had water\n",
      "Span prob = 0.007665065582841635, answer = \n",
      "Span prob = 0.006627386901527643, answer = ##river\n",
      "Span prob = 0.0058457818813622, answer = \n",
      "Span prob = 0.004977354779839516, answer = The # endangeredriver would be a sexy bastard in this channel if it had water. Quick turns. Narrow\n",
      "Span prob = 0.004173944238573313, answer = # endangeredriver would be a sexy bastard in this channel if it had water. Quick turns. Narrow\n",
      "Span prob = 0.002165492856875062, answer = The # endangeredriver would be a sexy bastard in this channel if it had water. Quick turns\n",
      "Span prob = 0.0020889986772090197, answer = The # endangeredriver would be a sexy bastard in this channel if it had water\n",
      "Span prob = 0.0018159537576138973, answer = # endangeredriver would be a sexy bastard in this channel if it had water. Quick turns\n",
      "Span prob = 0.0017518068198114634, answer = # endangeredriver would be a sexy bastard in this channel if it had water\n",
      "Span prob = 0.001542992191389203, answer = endangeredriver would be a sexy bastard in this channel if it had water. Quick turns. Narrow. ( I'm losing it ) John D. Sutter\n",
      "Span prob = 0.0014155353419482708, answer = Quick turns. Narrow\n",
      "Span prob = 0.0013854473363608122, answer = endangered\n"
     ]
    }
   ],
   "source": [
    "def predict_answer(probs_start, probs_end, input_ids, tokenizer):\n",
    "    \n",
    "    input_length = len(input_ids)  # length of the input sequence, in the form \"[CLS] question [SEP] context\"\n",
    "\n",
    "    SEP_SPECIAL_TOKEN = 102  # the input id for the sep special token the separates the question from the context. The context starts after this token. \n",
    "    PAD_SPECIAL_TOKEN = 0  # the input id for padding tokens added to the end of the context\n",
    "    \n",
    "    span_probabilities = []  # save the probabilities here\n",
    "    spans = []  # save the possible answer spans here\n",
    "    \n",
    "    for start_idx in range(0, input_length):\n",
    "        for end_idx in range(0, input_length):\n",
    "            \n",
    "            start_prob = probs_start[start_idx]\n",
    "            end_prob = probs_end[end_idx]\n",
    "            \n",
    "            span_probabilities.append(start_prob * end_prob)  # get the joint probability of the start and end tokens to get probability for the span\n",
    "            \n",
    "            span = tokenizer.decode(input_ids[start_idx:end_idx+1])\n",
    "            spans.append(span)\n",
    "\n",
    "    # sort the spans according to probability:\n",
    "    sorted_span_index = np.argsort(span_probabilities)\n",
    "    \n",
    "    # print the top 20 answers:\n",
    "    for i in range(20):\n",
    "        print(f'Span prob = {span_probabilities[sorted_span_index[-i-1]]}, answer = {spans[sorted_span_index[-i-1]]}')\n",
    "            \n",
    "predict_answer(probs_start[example_index], probs_end[example_index], example['input_ids'], tokenizer)"
   ]
  },
  {
   "cell_type": "markdown",
   "id": "00db2d3b-9896-45dd-9c12-118e957bdb76",
   "metadata": {},
   "source": [
    "Are all of the top 20 valid and unique answers? If not, what do you think is going wrong? \n",
    "\n",
    "**TO-DO 5b:** Use the cell below to define a new and improved version of `predict_answer()` that only includes valid answers. Summarise in a couple of sentences what kind of invalid answers your code removes. **4 marks**\n",
    "\n",
    "**ANSWER:** The code removes answers where the end index is before the start index and therefore are empty spans."
   ]
  },
  {
   "cell_type": "code",
   "execution_count": 276,
   "id": "aae6c6d1-e3a4-4d3c-ba54-6e9e9b3d58bf",
   "metadata": {},
   "outputs": [
    {
     "name": "stdout",
     "output_type": "stream",
     "text": [
      "Span prob = 0.5619068145751953, answer = past West\n",
      "Span prob = 0.1524379700422287, answer = Drove past West\n",
      "Span prob = 0.12783248722553253, answer = ##ove past West\n",
      "Span prob = 0.01834719628095627, answer = past Westgate earlier today, still can't believe i can't shop there. It was\n",
      "Span prob = 0.007982296869158745, answer = past Westgate earlier today, still can't believe i can't shop there\n",
      "Span prob = 0.0077003296464681625, answer = past Westgate earlier today, still can't believe i can '\n",
      "Span prob = 0.004977354779839516, answer = Drove past Westgate earlier today, still can't believe i can't shop there. It was\n",
      "Span prob = 0.004173944238573313, answer = ##ove past Westgate earlier today, still can't believe i can't shop there. It was\n",
      "Span prob = 0.002165492856875062, answer = Drove past Westgate earlier today, still can't believe i can't shop there\n",
      "Span prob = 0.0020889986772090197, answer = Drove past Westgate earlier today, still can't believe i can '\n",
      "Span prob = 0.0018159537576138973, answer = ##ove past Westgate earlier today, still can't believe i can't shop there\n",
      "Span prob = 0.0017518068198114634, answer = ##ove past Westgate earlier today, still can't believe i can '\n",
      "Span prob = 0.001542992191389203, answer = past Westgate earlier today, still can't believe i can't shop there. It was my favorite mall! # Westgate6Months — Mu\n",
      "Span prob = 0.0014155353419482708, answer = shop there. It was\n",
      "Span prob = 0.001368652912788093, answer = past Westgate earlier today, still can't believe i can't shop there. It was my\n",
      "Span prob = 0.0010366046335548162, answer = past Westgate earlier today, still\n",
      "Span prob = 0.0007628354942426085, answer = past Westgate earlier today, still can't believe i can't shop there. It was my favorite mall! # Westgate6Months — Mukuria Chege (\n",
      "Span prob = 0.0006881904555484653, answer = past Westgate earlier today, still can't believe i can't shop there. It was my favorite mall! # Westgate6\n",
      "Span prob = 0.0006859645945951343, answer = past Westgate earlier today, still can't believe i can't shop there. It was my favorite mall! # Westgate6Months — Mukuria Chege ( @\n",
      "Span prob = 0.0006472626118920743, answer = past Westgate earlier today, still can't believe i can't\n"
     ]
    }
   ],
   "source": [
    "### WRITE YOUR OWN CODE HERE\n",
    "\n",
    "def predict_answer(probs_start, probs_end, input_ids, tokenizer):\n",
    "    \n",
    "    input_length = len(input_ids)\n",
    "    \n",
    "    SEP_SPECIAL_TOKEN = 102  # the input id for the sep special token the separates the question from the context. The context starts after this token. \n",
    "    PAD_SPECIAL_TOKEN = 0  # the input id for padding tokens added to the end of the context\n",
    "    \n",
    "    span_probabilities = []  # save the probabilities here\n",
    "    spans = []  # save the possible answer spans here\n",
    "    \n",
    "    for start_idx in range(0, input_length):\n",
    "        for end_idx in range(start_idx + 1, input_length):  # change to start from one token after the start_idx to get valid spans\n",
    "            \n",
    "            start_prob = probs_start[start_idx]\n",
    "            end_prob = probs_end[end_idx]\n",
    "            \n",
    "            span_probabilities.append(start_prob * end_prob)\n",
    "            \n",
    "            span = tokenizer.decode(input_ids[start_idx:end_idx+1])\n",
    "            spans.append(span)\n",
    "\n",
    "    # sort the spans according to probability:\n",
    "    sorted_span_index = np.argsort(span_probabilities)\n",
    "    \n",
    "    # print the top 20 answers:\n",
    "    for i in range(20):\n",
    "        print(f'Span prob = {span_probabilities[sorted_span_index[-i-1]]}, answer = {spans[sorted_span_index[-i-1]]}')\n",
    "            \n",
    "predict_answer(probs_start[example_index], probs_end[example_index], example['input_ids'], tokenizer)"
   ]
  },
  {
   "cell_type": "code",
   "execution_count": 275,
   "id": "657d8611",
   "metadata": {},
   "outputs": [
    {
     "name": "stdout",
     "output_type": "stream",
     "text": [
      "Example 10\n",
      "QUESTION = who is davis directing their question to?\n",
      "ANSWER = ['cnn.', 'cnn.']\n",
      "Span prob = 0.8641284704208374, answer = Adam Davis\n",
      "Span prob = 0.07723896205425262, answer = Eat the pizza, eat the dog, or both? Adam Davis\n",
      "Span prob = 0.0038331663236021996, answer = Adam Davis ( @ amdhit )\n",
      "Span prob = 0.0019280483247712255, answer = Eat the pizza\n",
      "Span prob = 0.0016680951230227947, answer = Adam Davis ( @ amdhit\n",
      "Span prob = 0.0012408460024744272, answer = Adam Davis ( @ amdhit ) July 23, 2014\n",
      "Span prob = 0.0010941752698272467, answer = Eat the pizza, eat the dog, or both? Adam\n",
      "Span prob = 0.0010419517057016492, answer = eat the dog, or both? Adam Davis\n",
      "Span prob = 0.0007980415248312056, answer = pizza, eat the dog, or both? Adam Davis\n",
      "Span prob = 0.0005266257794573903, answer = CNN What do I do about this dog? Eat the pizza, eat the dog, or both? Adam Davis\n",
      "Span prob = 0.0003426224284339696, answer = Eat the pizza, eat the dog, or both? Adam Davis ( @ amdhit )\n",
      "Span prob = 0.0003014258109033108, answer = Eat the pizza, eat the dog\n",
      "Span prob = 0.00014910043682903051, answer = Eat the pizza, eat the dog, or both? Adam Davis ( @ amdhit\n",
      "Span prob = 0.00014311507402453572, answer = ? Adam Davis\n",
      "Span prob = 0.00011091135820606723, answer = Eat the pizza, eat the dog, or both? Adam Davis ( @ amdhit ) July 23, 2014\n",
      "Span prob = 9.241366933565587e-05, answer = @ CNN What do I do about this dog? Eat the pizza, eat the dog, or both? Adam Davis\n",
      "Span prob = 9.211924771079794e-05, answer = Adam Davis (\n",
      "Span prob = 8.970786439022049e-05, answer = Adam Davis ( @ amdhit ) July 23\n",
      "Span prob = 4.698918928625062e-05, answer = [CLS] who is davis directing their question to? [SEP]. @ CNN What do I do about this dog? Eat the pizza, eat the dog, or both? Adam Davis\n",
      "Span prob = 3.7121841160114855e-05, answer = do about this dog? Eat the pizza, eat the dog, or both? Adam Davis\n",
      "Example 11\n",
      "QUESTION = who does davis propose eating?\n",
      "ANSWER = ['a dog.', 'the dog']\n",
      "Span prob = 0.497815877199173, answer = Eat the pizza\n",
      "Span prob = 0.06437478214502335, answer = Eat the pizza, eat the dog, or both? Adam Davis\n",
      "Span prob = 0.029202524572610855, answer = Adam Davis\n",
      "Span prob = 0.016645124182105064, answer = the pizza\n",
      "Span prob = 0.01488754153251648, answer = pizza, eat the dog, or both? Adam Davis\n",
      "Span prob = 0.004299703985452652, answer = Eat the pizza, eat the dog\n",
      "Span prob = 0.002250694204121828, answer = Eat the pizza, eat the dog, or both? Adam\n",
      "Span prob = 0.0021524548064917326, answer = the pizza, eat the dog, or both? Adam Davis\n",
      "Span prob = 0.0012492252280935645, answer = eat the dog, or both? Adam Davis\n",
      "Span prob = 0.0011225714115425944, answer = Eat the pizza,\n",
      "Span prob = 0.0009943648474290967, answer = pizza, eat the dog\n",
      "Span prob = 0.0005205036140978336, answer = pizza, eat the dog, or both? Adam\n",
      "Span prob = 0.00041017160401679575, answer = Eat the pizza, eat the dog, or both? Adam Davis ( @ amdhit )\n",
      "Span prob = 0.00038085144478827715, answer = Eat the pizza, eat the dog,\n",
      "Span prob = 0.0002717107709031552, answer = Eat the pizza, eat the dog, or both? Adam Davis ( @ amdhit ) July 23, 2014\n",
      "Span prob = 0.00025960986386053264, answer = pizza,\n",
      "Span prob = 0.00024946374469436705, answer = Eat the pizza, eat the dog, or both\n",
      "Span prob = 0.00023422394588124007, answer = Eat the pizza, eat\n",
      "Span prob = 0.00018606738012749702, answer = Adam Davis ( @ amdhit )\n",
      "Span prob = 0.00016848834638949484, answer = Eat the pizza, eat the dog, or both? Adam Davis ( @ amdhit\n",
      "Example 12\n",
      "QUESTION = who looked nice during practice?\n",
      "ANSWER = ['tsonga.', 'tsonga']\n",
      "Span prob = 0.9981116652488708, answer = Tsonga\n",
      "Span prob = 0.00046888834913261235, answer = Tsonga looking good in practice\n",
      "Span prob = 0.00013674897491000593, answer = Tsonga looking good\n",
      "Span prob = 0.00011709326645359397, answer = Tsonga looking good in practice ahead of his first match in the # DavisCupFinal # cnnsport # CNNOpenCourt CNN Open Court ( @ cnnopencourt ) November 21, 2014\n",
      "Span prob = 0.00010206824663328007, answer = Tsonga looking good in practice ahead of his first match\n",
      "Span prob = 9.005000174511224e-05, answer = Tsonga looking good in practice ahead of his first match in the # DavisCupFinal # cnnsport\n",
      "Span prob = 8.724558574613184e-05, answer = ##songa\n",
      "Span prob = 5.5587450333405286e-05, answer = Tson\n",
      "Span prob = 5.251518086879514e-05, answer = Tsonga looking good in practice ahead of his first match in the # DavisCupFinal # cnnsport # CNNOpenCourt\n",
      "Span prob = 4.374053969513625e-05, answer = Tsonga looking good in practice ahead of his first match in the # DavisCupFinal # cnnsport # CNNOpenCourt CNN Open Court\n",
      "Span prob = 3.684882540255785e-05, answer = Tsonga looking good in practice ahead of his first match in the # DavisCupFinal\n",
      "Span prob = 3.2131811167346314e-05, answer = Tsonga looking good in practice ahead of his first match in the # DavisCupFinal # cnnsport # CNNOpenCourt CNN Open Court ( @ cnnopencourt\n",
      "Span prob = 2.1690939320251346e-05, answer = Tsonga looking good in practice ahead of his first match in the # DavisCupFinal # cnnsport # CNNOpenCourt CNN Open Court ( @ cnnopencourt )\n",
      "Span prob = 1.885978053906001e-05, answer = Tsonga looking good in practice ahead of his first match in the # DavisCupFinal # cnnsport # CNNOpenCourt CNN\n",
      "Span prob = 1.192100353364367e-05, answer = Tsonga looking good in practice ahead of his first match in the # DavisCupFinal # cnnsport # CNNOpenCourt CNN Open Court ( @ cnnopencourt ) November 21\n",
      "Span prob = 9.257006240659393e-06, answer = Tsonga looking good in practice ahead\n",
      "Span prob = 8.4007779150852e-06, answer = Tsonga looking\n",
      "Span prob = 8.158178388839588e-06, answer = Tsonga looking good in practice ahead of his first match in the # DavisCupFinal # cnnsport # CNN\n",
      "Span prob = 4.785236342286225e-06, answer = Tsonga looking good in practice ahead of his first match in the # DavisCupFinal # cnnsport # CNNOpenCourt CNN Open Court ( @ cnnopencourt ) November\n",
      "Span prob = 4.51104051535367e-06, answer = Tsonga looking good in practice ahead of his first\n",
      "Example 13\n",
      "QUESTION = when did tsonga practice sports?\n",
      "ANSWER = ['ahead of the final match.', 'daviscupfinal']\n",
      "Span prob = 0.9707741141319275, answer = November 21, 2014\n",
      "Span prob = 0.011998954229056835, answer = ahead of his first match in the # DavisCupFinal # cnnsport # CNNOpenCourt CNN Open Court ( @ cnnopencourt ) November 21, 2014\n",
      "Span prob = 0.004051657859236002, answer = 21, 2014\n",
      "Span prob = 0.002624147804453969, answer = November 21\n",
      "Span prob = 0.0007899001357145607, answer = his first match in the # DavisCupFinal # cnnsport # CNNOpenCourt CNN Open Court ( @ cnnopencourt ) November 21, 2014\n",
      "Span prob = 0.0006688296562060714, answer = Tsonga looking good in practice ahead of his first match in the # DavisCupFinal # cnnsport # CNNOpenCourt CNN Open Court ( @ cnnopencourt ) November 21, 2014\n",
      "Span prob = 0.00048010851605795324, answer = first match in the # DavisCupFinal # cnnsport # CNNOpenCourt CNN Open Court ( @ cnnopencourt ) November 21, 2014\n",
      "Span prob = 0.00027253825101070106, answer = in the # DavisCupFinal # cnnsport # CNNOpenCourt CNN Open Court ( @ cnnopencourt ) November 21, 2014\n",
      "Span prob = 0.0001942715753102675, answer = # DavisCupFinal # cnnsport # CNNOpenCourt CNN Open Court ( @ cnnopencourt ) November 21, 2014\n",
      "Span prob = 0.00013732291699852794, answer = November 21,\n",
      "Span prob = 0.00011347582039888948, answer = the # DavisCupFinal # cnnsport # CNNOpenCourt CNN Open Court ( @ cnnopencourt ) November 21, 2014\n",
      "Span prob = 8.493736095260829e-05, answer = practice ahead of his first match in the # DavisCupFinal # cnnsport # CNNOpenCourt CNN Open Court ( @ cnnopencourt ) November 21, 2014\n",
      "Span prob = 5.6013421271927655e-05, answer = in practice ahead of his first match in the # DavisCupFinal # cnnsport # CNNOpenCourt CNN Open Court ( @ cnnopencourt ) November 21, 2014\n",
      "Span prob = 3.243496757932007e-05, answer = ahead of his first match in the # DavisCupFinal # cnnsport # CNNOpenCourt CNN Open Court ( @ cnnopencourt ) November 21\n",
      "Span prob = 2.9881148293497972e-05, answer = DavisCupFinal # cnnsport # CNNOpenCourt CNN Open Court ( @ cnnopencourt ) November 21, 2014\n",
      "Span prob = 2.3185575628303923e-05, answer = match in the # DavisCupFinal # cnnsport # CNNOpenCourt CNN Open Court ( @ cnnopencourt ) November 21, 2014\n",
      "Span prob = 1.6497546312166378e-05, answer = # cnnsport # CNNOpenCourt CNN Open Court ( @ cnnopencourt ) November 21, 2014\n",
      "Span prob = 1.630277984077111e-05, answer = good in practice ahead of his first match in the # DavisCupFinal # cnnsport # CNNOpenCourt CNN Open Court ( @ cnnopencourt ) November 21, 2014\n",
      "Span prob = 1.393003185512498e-05, answer = CNN Open Court ( @ cnnopencourt ) November 21, 2014\n",
      "Span prob = 1.3680039046448655e-05, answer = CNNOpenCourt CNN Open Court ( @ cnnopencourt ) November 21, 2014\n",
      "Example 14\n",
      "QUESTION = what was driven past earlier today?\n",
      "ANSWER = ['westgate.', 'westgate.']\n"
     ]
    },
    {
     "name": "stdout",
     "output_type": "stream",
     "text": [
      "Span prob = 0.9885745048522949, answer = Westgate\n",
      "Span prob = 0.004299418069422245, answer = Drove past Westgate\n",
      "Span prob = 0.0003031263768207282, answer = Westgate earlier today\n",
      "Span prob = 0.00017634339747019112, answer = Westgate earlier\n",
      "Span prob = 0.00013716019748244435, answer = Westgate earlier today, still can't believe i can't shop there. It was my favorite mall! # Westgate6Months\n",
      "Span prob = 7.982626266311854e-05, answer = Westgate earlier today,\n",
      "Span prob = 5.914858775213361e-05, answer = Westgate earlier today, still can't believe i can't shop there. It was my favorite mall! # Westgate\n",
      "Span prob = 4.606162474374287e-05, answer = Westgate earlier today, still can't believe i can't shop there\n",
      "Span prob = 2.0618390408344567e-05, answer = Westgate earlier today, still can't believe i can't shop\n",
      "Span prob = 1.820515899453312e-05, answer = Westgate earlier today, still can't believe i can't shop there. It was my favorite mall\n",
      "Span prob = 1.8074706531479023e-05, answer = past Westgate\n",
      "Span prob = 1.5635776435374282e-05, answer = Westgate earlier today, still can't believe i can't shop there.\n",
      "Span prob = 1.4150758033792954e-05, answer = Westgate earlier today, still can't believe i can't shop there. It was my favorite mall! # Westgate6Months — Mukuria Chege ( @ Kush _ it _ is ) March 18, 2014\n",
      "Span prob = 1.1305372026981786e-05, answer = Westgate earlier today, still can't believe i can't shop there. It was my favorite mall! # West\n",
      "Span prob = 7.564934549009195e-06, answer = Westgate earlier today, still can't believe i can't shop there. It was my favorite mall! # Westgate6Months — Mukuria Chege ( @ Kush _ it _ is ) March 18\n",
      "Span prob = 5.359340775612509e-06, answer = Westgate earlier today, still can't believe i can't shop there. It was my favorite mall!\n",
      "Span prob = 4.62370326204109e-06, answer = Westgate earlier today, still can't believe i can't shop there. It was my favorite mall! # Westgate6\n",
      "Span prob = 3.898943759850226e-06, answer = Westgate earlier today, still can't believe i can't shop there. It was my favorite mall! # Westgate6Months — Mukuria Chege\n",
      "Span prob = 2.98111899610376e-06, answer = Westgate earlier today, still can't believe i can't shop there. It was my favorite mall! # Westgate6Months — Mukuria Chege ( @ Kush _ it _ is )\n",
      "Span prob = 1.708194531602203e-06, answer = what was driven past earlier today? [SEP] Drove past Westgate\n"
     ]
    }
   ],
   "source": [
    "for i in range(10, 15):  # display five other instances and the model's predictions\n",
    "    print(f'Example {i}')\n",
    "    example = val_dataset[i]\n",
    "    print(f'QUESTION = {example[\"Question\"]}')\n",
    "    print(f'ANSWER = {example[\"Answer\"]}')\n",
    "    predict_answer(probs_start[i], probs_end[i], example['input_ids'], tokenizer)"
   ]
  },
  {
   "cell_type": "markdown",
   "id": "135ed4ee-3134-4f52-9c38-271830e0b1a3",
   "metadata": {},
   "source": [
    "You can try out the pretrained QA model on a few examples and try to identify its common mistakes.\n",
    "\n",
    "**TO-DO 5c:** State one way that we could improve the performance of our extractive QA model on the Tweet QA dataset.  **2 marks**\n",
    "\n",
    "**ANSWER:** The model sometimes outputs answers that contain the question and/or [CLS] OR [SEP] tags. This could be fixed by ensuring that the outputs printed are only those after the [SEP] tag.\n",
    "\n",
    "--- \n",
    "\n",
    "As well as answering ad-hoc queries, question answering models can help us to extract structured information about entities of interest from a large set of documents. Suppose that we want to automatically collect information on tech companies, such as Apple and Open AI. We want to extract information about each company's activities from social media, including the names and release dates of new products and services, the company's earnings in a specific year, and who its CEO is.  \n",
    "\n",
    "**TO-DO 5d:** Given a list of tech company names, how could we use question answering to extract the required information for each company from a set of tweets?  **(3 marks)** \n",
    "\n",
    "**ANSWER:** First, tweets should be pre-processed using tokenisation, syntax parsing, named-entity recognition, and relation extraction. Then, co-reference resolution should be used to resolve named entities, including names, dates, corporations, etc. to pronouns and phrases that refer to them. Next, text should be labelled with semantic roles, e.g., [releaser] label could help identify company earnings for a specific company. Finally, answer type  etection, candidate answer retrieval, and answer ranking are carried out to obtain a best-guess answer.\n"
   ]
  },
  {
   "cell_type": "markdown",
   "id": "0635306b-51de-4e9d-8608-8bd7473b294a",
   "metadata": {
    "tags": []
   },
   "source": [
    "# 6. Transformer-based Text Classifiers (max. 24 marks)\n",
    "\n",
    "The previous section showed us how to use a pretrained QA model based on a pretrained transformer. In this section, you will learn how to construct and train a text classifier on top of a pretrained transformer. \n",
    "\n",
    "We will use the [Poem Sentiment](https://huggingface.co/datasets/poem_sentiment) dataset to train and test a classifier. The task is to classify lines from poems into one of  0: negative, 1: positive, 2: no impact, or 3: mixed sentiment. For more information, see [Sheng and Uthus, 2020](https://arxiv.org/pdf/2011.02686.pdf). \n",
    "\n",
    "To begin you will need to instantiate a suitable model."
   ]
  },
  {
   "cell_type": "markdown",
   "id": "b1339d48-6225-48cd-b82c-306a89ad3342",
   "metadata": {},
   "source": [
    "**TO-DO 6a:** Find an AutoModel class that constructs a text classifier from the pretrained TinyBERT model, \"huawei-noah/TinyBERT_General_4L_312D\". Create the `model` object in the cell below using this class. Refer to the [Hugging Face documentation for auto models](https://huggingface.co/transformers/v3.0.2/model_doc/auto.html) as needed. **(2 marks)**"
   ]
  },
  {
   "cell_type": "code",
   "execution_count": 277,
   "id": "99068090-6a2d-47f0-9d22-b78a6705cd3a",
   "metadata": {},
   "outputs": [
    {
     "name": "stderr",
     "output_type": "stream",
     "text": [
      "Some weights of the model checkpoint at huawei-noah/TinyBERT_General_4L_312D were not used when initializing BertForSequenceClassification: ['fit_denses.2.weight', 'fit_denses.1.weight', 'cls.predictions.transform.LayerNorm.weight', 'cls.predictions.transform.dense.bias', 'fit_denses.4.weight', 'fit_denses.1.bias', 'fit_denses.0.bias', 'fit_denses.0.weight', 'cls.seq_relationship.bias', 'fit_denses.3.weight', 'cls.predictions.bias', 'cls.predictions.transform.LayerNorm.bias', 'fit_denses.4.bias', 'cls.seq_relationship.weight', 'fit_denses.2.bias', 'fit_denses.3.bias', 'cls.predictions.decoder.weight', 'cls.predictions.transform.dense.weight']\n",
      "- This IS expected if you are initializing BertForSequenceClassification from the checkpoint of a model trained on another task or with another architecture (e.g. initializing a BertForSequenceClassification model from a BertForPreTraining model).\n",
      "- This IS NOT expected if you are initializing BertForSequenceClassification from the checkpoint of a model that you expect to be exactly identical (initializing a BertForSequenceClassification model from a BertForSequenceClassification model).\n",
      "Some weights of BertForSequenceClassification were not initialized from the model checkpoint at huawei-noah/TinyBERT_General_4L_312D and are newly initialized: ['classifier.bias', 'classifier.weight']\n",
      "You should probably TRAIN this model on a down-stream task to be able to use it for predictions and inference.\n"
     ]
    }
   ],
   "source": [
    "from transformers import AutoModelForSequenceClassification\n",
    "\n",
    "model = AutoModelForSequenceClassification.from_pretrained(\"huawei-noah/TinyBERT_General_4L_312D\", num_labels=4)  # 4 labels in the dataset"
   ]
  },
  {
   "cell_type": "markdown",
   "id": "50a38d4e-27a1-4c0c-b3fa-e8dc3bdf61b5",
   "metadata": {},
   "source": [
    "**TO-DO 6b:** Provide a link to the documentation for your chosen auto model for text classification. Briefly describe how the text classifier `model` it creates differs from the QA model created by `AutoModelForQuestionAnswering`. Note: A useful reference may be the original BERT paper (https://arxiv.org/pdf/1810.04805.pdf), which includes diagrams (Figure 4) showing how BERT can be adapted to different tasks. **(2 marks)** \n",
    "\n",
    "https://huggingface.co/transformers/v3.0.2/model_doc/auto.html#automodelforsequenceclassification\n",
    "\n",
    "**ANSWER:** Where models created using `AutoModelForQuestionAnswering` use the final hidden states for each of the tokens in the answer half of the sentence to attain start/end probabilities. `AutoModelForSequenceClassification`, on the other hand, uses the [CLS] token for the whole sequence to make a classification.\n",
    "\n",
    "---\n",
    "\n",
    "For the QA task, the complete model was pretrained and we could apply it to a dataset without further training. However, for our poem sentiment classification task,\n",
    "we will need to train our model before we can use it (you may see a message in the output of the last cell telling you this). \n",
    "\n",
    "**TO-DO 6c:** The emotion classifier is built on top of a pretrained TinyBERT model, so why do we need to train it before we can use it? **(2 marks)**\n",
    "\n",
    "**ANSWER:** Whereas QA tasks are predominantly standardised across applications, classification tasks can vary based on the characteristics of classes, e.g., sentiment classification is a very different task to emotion classification and therefore the model should be trained for a specific task.\n",
    "\n",
    "---\n",
    "\n",
    "Next, let's learn how to train our model. For some tasks it is not necessary to update the weights in the BERT model itself, so we can freeze them to save a lot of computation time. We can do this as follows. Since our pretrained model is based on BERT, we can access the weights inside BERT through the variable `model.bert`."
   ]
  },
  {
   "cell_type": "code",
   "execution_count": 278,
   "id": "f8ad56b1-d6e7-4048-9cc0-71849a003363",
   "metadata": {},
   "outputs": [],
   "source": [
    "for param in model.bert.parameters():\n",
    "    param.requires_grad = False"
   ]
  },
  {
   "cell_type": "markdown",
   "id": "a0e0c065-fb40-4e24-b4e4-ffe9ed473ba9",
   "metadata": {},
   "source": [
    "To train our model, we can make use of the Trainer class, which encapsulates a lot of the complex training steps and avoids the need to define our own training function, as we did in the previous notebook (we don't need to write our own `train_nn`).\n",
    "\n",
    "First, define some settings for the training process. This is where we can set training hyperparameters:"
   ]
  },
  {
   "cell_type": "code",
   "execution_count": 279,
   "id": "62af0a20-79a5-49ca-882a-638a68b288f7",
   "metadata": {},
   "outputs": [],
   "source": [
    "from transformers import TrainingArguments\n",
    "\n",
    "training_args = TrainingArguments(\n",
    "    output_dir=\"transformer_checkpoints\",  # specify the directory where models weights will be saved a certain points during training (checkpoints)\n",
    "    num_train_epochs=10, # A sensible and sufficient number to use for the to-dos below\n",
    "    per_device_train_batch_size=8,  # you can decrease this if memory usage is too high while training\n",
    "    logging_steps=50,  # how often to print progress during training\n",
    "    evaluation_strategy=\"epoch\",  # report evaluation metrics after each epoch\n",
    ")"
   ]
  },
  {
   "cell_type": "markdown",
   "id": "dc2b86a0-df7f-4978-a0ff-43d1b68975c5",
   "metadata": {},
   "source": [
    "Next, create a trainer object. Note that the next cell will currently fail with an error, because the variables `poem_train_dataset` and `poem_val_dataset` do not exist yet! Don't worry, we'll fix this later. "
   ]
  },
  {
   "cell_type": "code",
   "execution_count": 280,
   "id": "9e5ba93c-f8c4-4542-a316-6aac4a32362d",
   "metadata": {},
   "outputs": [],
   "source": [
    "from transformers import Trainer\n",
    "from torch import nn\n",
    "\n",
    "trainer = Trainer(\n",
    "    model=model,\n",
    "    args=training_args,\n",
    "    train_dataset=train_poems,\n",
    "    eval_dataset=val_poems,\n",
    ")"
   ]
  },
  {
   "cell_type": "markdown",
   "id": "3c33b30b-2c23-45e5-b2a1-757f1bf93ab7",
   "metadata": {},
   "source": [
    "To train the model, you will need to call `trainer.train()`.\n",
    "\n",
    "Once the model is trained, we can obtain predictions using the function below. Notice that it is simpler than obtaining the spans for QA -- we simply get the logits for each tweet in the test set, then apply argmax over the classes to find the most probable class for each tweet:"
   ]
  },
  {
   "cell_type": "code",
   "execution_count": 281,
   "id": "ad4e689d-ebec-44c4-b81d-649079e4a4a6",
   "metadata": {
    "tags": []
   },
   "outputs": [],
   "source": [
    "def predict_nn(trained_model, test_dataset):\n",
    "\n",
    "    # Switch off dropout\n",
    "    trained_model.eval()\n",
    "    \n",
    "    # Pass the required items from the dataset to the model    \n",
    "    output = trained_model(attention_mask=torch.tensor(test_dataset[\"attention_mask\"]), input_ids=torch.tensor(test_dataset[\"input_ids\"]))\n",
    "                        \n",
    "    # the output dictionary contains logits, which are the unnormalised scores for each class for each example:\n",
    "    pred_labs = np.argmax(output[\"logits\"].detach().numpy(), axis=1)\n",
    "\n",
    "    return pred_labs"
   ]
  },
  {
   "cell_type": "markdown",
   "id": "8ddf8564-4f98-4e3f-b1f7-b59725a0605c",
   "metadata": {},
   "source": [
    "You should now have all the bits and pieces needed to build and train a text classifier. Let's put them all together...\n",
    "\n",
    "**TO-DO 6d:** Implement and test a classifier for the [Poem Sentiment](https://huggingface.co/datasets/poem_sentiment) dataset using a pretrained transformer. Evaluate the classifier with both frozen and unfrozen (i.e., fine-tuned) parameters in the pretrained transformer. Choose a suitable evaluation metric and provide a comparison of the results below, including a brief explanation  (1-2 sentences) for any differences you observe between the frozen and unfrozen variants. Make sure to comment your code.  **(10 marks)**\n",
    "\n",
    "Notes: \n",
    " * Strong classifier performance is not required to achive good marks -- rather, we award marks for implementing and testing a transformer-based classifier correctly.\n",
    " * You may implement any suitable kind of classifier you like, as long as you are using a pretrained transformer model.\n",
    " * 'tiny' BERT variants such as TinyBERT and roberta-tiny are recommended because they are small enough to fine-tune with a typical laptop CPU. We recommend sticking with these smaller pretrained models unless you have access to a GPU, e.g., via Google Colab. \n",
    "\n",
    "WRITE YOUR ANSWER HERE (DESCRIPTION OF RESULTS FOR 6d):\n",
    "\n",
    "**ANSWER:** The model with fine-tuning performs much better than the model with frozen weights. When reviewing the accuracy, precision, recall, F1, and confusion matrix, it is clear that the frozen model (without fine-tuning) only predicts the majority class, and achieves an F1 score of 0.27. Whereas, the model with fine-tuning achieves an F1 score of 0.78. This is because the model requires fine-tuning to apply BERT effectively to new classification tasks. By using direct transfer learning, rather than inductive transfer learning, the frozen model is only applying knowledge from the basic classification tasks to the problem, rather than learning how to predict sentiment in poems.\n"
   ]
  },
  {
   "cell_type": "code",
   "execution_count": 282,
   "id": "5fcd5efd",
   "metadata": {},
   "outputs": [
    {
     "name": "stderr",
     "output_type": "stream",
     "text": [
      "Found cached dataset poem_sentiment (C:/Users/Morg/OneDrive/Documents/MSc/TB2/advanced_data_analytics/text_analytics/advanced-labs-public/data_cache/poem_sentiment/default/1.0.0/4e44428256d42cdde0be6b3db1baa587195e91847adabf976e4f9454f6a82099)\n",
      "Found cached dataset poem_sentiment (C:/Users/Morg/OneDrive/Documents/MSc/TB2/advanced_data_analytics/text_analytics/advanced-labs-public/data_cache/poem_sentiment/default/1.0.0/4e44428256d42cdde0be6b3db1baa587195e91847adabf976e4f9454f6a82099)\n",
      "Found cached dataset poem_sentiment (C:/Users/Morg/OneDrive/Documents/MSc/TB2/advanced_data_analytics/text_analytics/advanced-labs-public/data_cache/poem_sentiment/default/1.0.0/4e44428256d42cdde0be6b3db1baa587195e91847adabf976e4f9454f6a82099)\n"
     ]
    }
   ],
   "source": [
    "from datasets import load_dataset\n",
    "\n",
    "poem_train_dataset = load_dataset(  # load the train dataset.\n",
    "    \"poem_sentiment\",\n",
    "    split=\"train\",\n",
    "    ignore_verifications=True,\n",
    "    cache_dir=cache_dir,\n",
    ")\n",
    "\n",
    "poem_val_dataset = load_dataset(  # load the validation dataset.\n",
    "    \"poem_sentiment\",\n",
    "    split=\"validation\",\n",
    "    ignore_verifications=True,\n",
    "    cache_dir=cache_dir,\n",
    ")\n",
    "\n",
    "poem_test_dataset = load_dataset(  # load the test dataset.\n",
    "    \"poem_sentiment\",\n",
    "    split=\"test\",\n",
    "    ignore_verifications=True,\n",
    "    cache_dir=cache_dir,\n",
    ")"
   ]
  },
  {
   "cell_type": "markdown",
   "id": "73a8384c",
   "metadata": {},
   "source": [
    "The next block searches through the training set to find the maximum text length. This is then used as the max_length for model inputs and any shorter texts are padded with zeros."
   ]
  },
  {
   "cell_type": "code",
   "execution_count": 283,
   "id": "b9412830",
   "metadata": {},
   "outputs": [
    {
     "data": {
      "text/plain": [
       "109"
      ]
     },
     "execution_count": 283,
     "metadata": {},
     "output_type": "execute_result"
    }
   ],
   "source": [
    "max_length = 0\n",
    "for line in poem_train_dataset:\n",
    "    if len(line['verse_text']) > max_length:\n",
    "        max_length = len(line['verse_text'])\n",
    "    \n",
    "max_length"
   ]
  },
  {
   "cell_type": "code",
   "execution_count": 284,
   "id": "3e52fa8d",
   "metadata": {},
   "outputs": [],
   "source": [
    "tokenizer = AutoTokenizer.from_pretrained(\"huawei-noah/TinyBERT_General_4L_312D\")  # import right autotokenizer for our model\n",
    "\n",
    "def tokenize_function(dataset):  # function to tokenize each text\n",
    "    model_inputs = tokenizer(dataset['verse_text'], padding=\"max_length\", max_length=max_length)\n",
    "    return model_inputs"
   ]
  },
  {
   "cell_type": "markdown",
   "id": "2d74a474",
   "metadata": {},
   "source": [
    "The next code block applies tokenization to all three splits."
   ]
  },
  {
   "cell_type": "code",
   "execution_count": 285,
   "id": "97334031",
   "metadata": {},
   "outputs": [
    {
     "name": "stderr",
     "output_type": "stream",
     "text": [
      "Loading cached processed dataset at C:\\Users\\Morg\\OneDrive\\Documents\\MSc\\TB2\\advanced_data_analytics\\text_analytics\\advanced-labs-public\\data_cache\\poem_sentiment\\default\\1.0.0\\4e44428256d42cdde0be6b3db1baa587195e91847adabf976e4f9454f6a82099\\cache-626f48bd9730a0c0.arrow\n",
      "Loading cached processed dataset at C:\\Users\\Morg\\OneDrive\\Documents\\MSc\\TB2\\advanced_data_analytics\\text_analytics\\advanced-labs-public\\data_cache\\poem_sentiment\\default\\1.0.0\\4e44428256d42cdde0be6b3db1baa587195e91847adabf976e4f9454f6a82099\\cache-3175bca6b0f81b30.arrow\n",
      "Loading cached processed dataset at C:\\Users\\Morg\\OneDrive\\Documents\\MSc\\TB2\\advanced_data_analytics\\text_analytics\\advanced-labs-public\\data_cache\\poem_sentiment\\default\\1.0.0\\4e44428256d42cdde0be6b3db1baa587195e91847adabf976e4f9454f6a82099\\cache-df8707107c288815.arrow\n"
     ]
    }
   ],
   "source": [
    "train_poems = poem_train_dataset.map(tokenize_function, batched=True)\n",
    "val_poems = poem_val_dataset.map(tokenize_function, batched=True)\n",
    "test_poems = poem_test_dataset.map(tokenize_function, batched=True)"
   ]
  },
  {
   "cell_type": "code",
   "execution_count": 159,
   "id": "b176ab80",
   "metadata": {},
   "outputs": [
    {
     "name": "stderr",
     "output_type": "stream",
     "text": [
      "C:\\Users\\Morg\\AppData\\Local\\Programs\\Python\\Python310\\lib\\site-packages\\transformers\\optimization.py:391: FutureWarning: This implementation of AdamW is deprecated and will be removed in a future version. Use the PyTorch implementation torch.optim.AdamW instead, or set `no_deprecation_warning=True` to disable this warning\n",
      "  warnings.warn(\n"
     ]
    },
    {
     "data": {
      "text/html": [
       "\n",
       "    <div>\n",
       "      \n",
       "      <progress value='1120' max='1120' style='width:300px; height:20px; vertical-align: middle;'></progress>\n",
       "      [1120/1120 14:07, Epoch 10/10]\n",
       "    </div>\n",
       "    <table border=\"1\" class=\"dataframe\">\n",
       "  <thead>\n",
       " <tr style=\"text-align: left;\">\n",
       "      <th>Epoch</th>\n",
       "      <th>Training Loss</th>\n",
       "      <th>Validation Loss</th>\n",
       "    </tr>\n",
       "  </thead>\n",
       "  <tbody>\n",
       "    <tr>\n",
       "      <td>1</td>\n",
       "      <td>1.370500</td>\n",
       "      <td>1.359082</td>\n",
       "    </tr>\n",
       "    <tr>\n",
       "      <td>2</td>\n",
       "      <td>1.350600</td>\n",
       "      <td>1.335096</td>\n",
       "    </tr>\n",
       "    <tr>\n",
       "      <td>3</td>\n",
       "      <td>1.337500</td>\n",
       "      <td>1.315157</td>\n",
       "    </tr>\n",
       "    <tr>\n",
       "      <td>4</td>\n",
       "      <td>1.319400</td>\n",
       "      <td>1.298243</td>\n",
       "    </tr>\n",
       "    <tr>\n",
       "      <td>5</td>\n",
       "      <td>1.304100</td>\n",
       "      <td>1.284494</td>\n",
       "    </tr>\n",
       "    <tr>\n",
       "      <td>6</td>\n",
       "      <td>1.284200</td>\n",
       "      <td>1.273413</td>\n",
       "    </tr>\n",
       "    <tr>\n",
       "      <td>7</td>\n",
       "      <td>1.288400</td>\n",
       "      <td>1.265001</td>\n",
       "    </tr>\n",
       "    <tr>\n",
       "      <td>8</td>\n",
       "      <td>1.272100</td>\n",
       "      <td>1.259087</td>\n",
       "    </tr>\n",
       "    <tr>\n",
       "      <td>9</td>\n",
       "      <td>1.271400</td>\n",
       "      <td>1.255654</td>\n",
       "    </tr>\n",
       "    <tr>\n",
       "      <td>10</td>\n",
       "      <td>1.268400</td>\n",
       "      <td>1.254551</td>\n",
       "    </tr>\n",
       "  </tbody>\n",
       "</table><p>"
      ],
      "text/plain": [
       "<IPython.core.display.HTML object>"
      ]
     },
     "metadata": {},
     "output_type": "display_data"
    },
    {
     "data": {
      "text/plain": [
       "TrainOutput(global_step=1120, training_loss=1.3085977724620275, metrics={'train_runtime': 849.6878, 'train_samples_per_second': 10.498, 'train_steps_per_second': 1.318, 'total_flos': 27233181666240.0, 'train_loss': 1.3085977724620275, 'epoch': 10.0})"
      ]
     },
     "execution_count": 159,
     "metadata": {},
     "output_type": "execute_result"
    }
   ],
   "source": [
    "trainer.train()  # train the model"
   ]
  },
  {
   "cell_type": "code",
   "execution_count": 160,
   "id": "a9266ae4",
   "metadata": {},
   "outputs": [],
   "source": [
    "no_ft_pred = predict_nn(model, test_poems)  # make predictions on the test set"
   ]
  },
  {
   "cell_type": "markdown",
   "id": "26336e1d",
   "metadata": {},
   "source": [
    "The next code block looks at the performance of the model without fine-tuning."
   ]
  },
  {
   "cell_type": "code",
   "execution_count": 200,
   "id": "b0d81ae8",
   "metadata": {},
   "outputs": [
    {
     "name": "stdout",
     "output_type": "stream",
     "text": [
      "Model without fine-tuning:\n",
      "\n",
      "ACCURACY: 0.6634615384615384\n",
      "PRECISION: 0.22115384615384615\n",
      "RECALL: 0.3333333333333333\n",
      "F1 SCORE: 0.26589595375722547\n",
      "\n",
      "Predict  0        1        2        \n",
      "Actual\n",
      "0        0        0        19       \n",
      "\n",
      "1        0        0        16       \n",
      "\n",
      "2        0        0        69       \n",
      "\n",
      "\n"
     ]
    },
    {
     "name": "stderr",
     "output_type": "stream",
     "text": [
      "C:\\Users\\Morg\\AppData\\Local\\Programs\\Python\\Python310\\lib\\site-packages\\sklearn\\metrics\\_classification.py:1344: UndefinedMetricWarning: Precision is ill-defined and being set to 0.0 in labels with no predicted samples. Use `zero_division` parameter to control this behavior.\n",
      "  _warn_prf(average, modifier, msg_start, len(result))\n"
     ]
    }
   ],
   "source": [
    "from sklearn.metrics import accuracy_score, precision_score, recall_score, f1_score\n",
    "import pycm\n",
    "\n",
    "print(f\"Model without fine-tuning:\\n\\nACCURACY: {accuracy_score(test_poems['label'], no_ft_pred)}\\nPRECISION: {precision_score(test_poems['label'], no_ft_pred, average='macro')}\\nRECALL: {recall_score(test_poems['label'], no_ft_pred, average='macro')}\\nF1 SCORE: {f1_score(test_poems['label'], no_ft_pred, average='macro')}\\n\")\n",
    "\n",
    "cm = pycm.ConfusionMatrix(test_poems['label'], no_ft_pred)\n",
    "cm.print_matrix()"
   ]
  },
  {
   "cell_type": "markdown",
   "id": "29156992",
   "metadata": {},
   "source": [
    "Next, let's see how the model performs with fine-tuning. First let's reinstatiate the model and trainer object."
   ]
  },
  {
   "cell_type": "code",
   "execution_count": 161,
   "id": "f6d86010",
   "metadata": {},
   "outputs": [
    {
     "name": "stderr",
     "output_type": "stream",
     "text": [
      "Some weights of the model checkpoint at huawei-noah/TinyBERT_General_4L_312D were not used when initializing BertForSequenceClassification: ['fit_denses.2.weight', 'fit_denses.1.weight', 'cls.predictions.transform.LayerNorm.weight', 'cls.predictions.transform.dense.bias', 'fit_denses.4.weight', 'fit_denses.1.bias', 'fit_denses.0.bias', 'fit_denses.0.weight', 'cls.seq_relationship.bias', 'fit_denses.3.weight', 'cls.predictions.bias', 'cls.predictions.transform.LayerNorm.bias', 'fit_denses.4.bias', 'cls.seq_relationship.weight', 'fit_denses.2.bias', 'fit_denses.3.bias', 'cls.predictions.decoder.weight', 'cls.predictions.transform.dense.weight']\n",
      "- This IS expected if you are initializing BertForSequenceClassification from the checkpoint of a model trained on another task or with another architecture (e.g. initializing a BertForSequenceClassification model from a BertForPreTraining model).\n",
      "- This IS NOT expected if you are initializing BertForSequenceClassification from the checkpoint of a model that you expect to be exactly identical (initializing a BertForSequenceClassification model from a BertForSequenceClassification model).\n",
      "Some weights of BertForSequenceClassification were not initialized from the model checkpoint at huawei-noah/TinyBERT_General_4L_312D and are newly initialized: ['classifier.bias', 'classifier.weight']\n",
      "You should probably TRAIN this model on a down-stream task to be able to use it for predictions and inference.\n"
     ]
    }
   ],
   "source": [
    "model = AutoModelForSequenceClassification.from_pretrained(\"huawei-noah/TinyBERT_General_4L_312D\", num_labels=4)"
   ]
  },
  {
   "cell_type": "code",
   "execution_count": 162,
   "id": "01bc01ab",
   "metadata": {},
   "outputs": [],
   "source": [
    "trainer = Trainer(\n",
    "    model=model,\n",
    "    args=training_args,\n",
    "    train_dataset=train_poems,\n",
    "    eval_dataset=val_poems,\n",
    ")"
   ]
  },
  {
   "cell_type": "code",
   "execution_count": 163,
   "id": "a8c3e714",
   "metadata": {},
   "outputs": [],
   "source": [
    "for param in model.bert.parameters():  # unfreezes BERT weights and turns on fine-tuning as a result\n",
    "    param.requires_grad = True"
   ]
  },
  {
   "cell_type": "code",
   "execution_count": 164,
   "id": "1d2e6935",
   "metadata": {},
   "outputs": [
    {
     "name": "stderr",
     "output_type": "stream",
     "text": [
      "C:\\Users\\Morg\\AppData\\Local\\Programs\\Python\\Python310\\lib\\site-packages\\transformers\\optimization.py:391: FutureWarning: This implementation of AdamW is deprecated and will be removed in a future version. Use the PyTorch implementation torch.optim.AdamW instead, or set `no_deprecation_warning=True` to disable this warning\n",
      "  warnings.warn(\n"
     ]
    },
    {
     "data": {
      "text/html": [
       "\n",
       "    <div>\n",
       "      \n",
       "      <progress value='1120' max='1120' style='width:300px; height:20px; vertical-align: middle;'></progress>\n",
       "      [1120/1120 42:58, Epoch 10/10]\n",
       "    </div>\n",
       "    <table border=\"1\" class=\"dataframe\">\n",
       "  <thead>\n",
       " <tr style=\"text-align: left;\">\n",
       "      <th>Epoch</th>\n",
       "      <th>Training Loss</th>\n",
       "      <th>Validation Loss</th>\n",
       "    </tr>\n",
       "  </thead>\n",
       "  <tbody>\n",
       "    <tr>\n",
       "      <td>1</td>\n",
       "      <td>0.946100</td>\n",
       "      <td>0.737348</td>\n",
       "    </tr>\n",
       "    <tr>\n",
       "      <td>2</td>\n",
       "      <td>0.658500</td>\n",
       "      <td>0.655575</td>\n",
       "    </tr>\n",
       "    <tr>\n",
       "      <td>3</td>\n",
       "      <td>0.525100</td>\n",
       "      <td>0.599569</td>\n",
       "    </tr>\n",
       "    <tr>\n",
       "      <td>4</td>\n",
       "      <td>0.428000</td>\n",
       "      <td>0.545868</td>\n",
       "    </tr>\n",
       "    <tr>\n",
       "      <td>5</td>\n",
       "      <td>0.344800</td>\n",
       "      <td>0.522004</td>\n",
       "    </tr>\n",
       "    <tr>\n",
       "      <td>6</td>\n",
       "      <td>0.259500</td>\n",
       "      <td>0.761997</td>\n",
       "    </tr>\n",
       "    <tr>\n",
       "      <td>7</td>\n",
       "      <td>0.250700</td>\n",
       "      <td>0.571598</td>\n",
       "    </tr>\n",
       "    <tr>\n",
       "      <td>8</td>\n",
       "      <td>0.223600</td>\n",
       "      <td>0.587284</td>\n",
       "    </tr>\n",
       "    <tr>\n",
       "      <td>9</td>\n",
       "      <td>0.184200</td>\n",
       "      <td>0.664679</td>\n",
       "    </tr>\n",
       "    <tr>\n",
       "      <td>10</td>\n",
       "      <td>0.199600</td>\n",
       "      <td>0.636919</td>\n",
       "    </tr>\n",
       "  </tbody>\n",
       "</table><p>"
      ],
      "text/plain": [
       "<IPython.core.display.HTML object>"
      ]
     },
     "metadata": {},
     "output_type": "display_data"
    },
    {
     "data": {
      "text/plain": [
       "TrainOutput(global_step=1120, training_loss=0.4207231926066535, metrics={'train_runtime': 2579.9734, 'train_samples_per_second': 3.457, 'train_steps_per_second': 0.434, 'total_flos': 27233181666240.0, 'train_loss': 0.4207231926066535, 'epoch': 10.0})"
      ]
     },
     "execution_count": 164,
     "metadata": {},
     "output_type": "execute_result"
    }
   ],
   "source": [
    "trainer.train()  # train the model with fine-tuning"
   ]
  },
  {
   "cell_type": "code",
   "execution_count": 165,
   "id": "173eade4",
   "metadata": {},
   "outputs": [],
   "source": [
    "ft_pred = predict_nn(model, test_poems)  # make predictions using the fine-tuned model"
   ]
  },
  {
   "cell_type": "markdown",
   "id": "f7c9ab6f",
   "metadata": {},
   "source": [
    "The code below gets performance metrics for the fine-tuned BERT model for classification."
   ]
  },
  {
   "cell_type": "code",
   "execution_count": 199,
   "id": "2e8f05d1",
   "metadata": {},
   "outputs": [
    {
     "name": "stdout",
     "output_type": "stream",
     "text": [
      "Model with fine-tuning:\n",
      "\n",
      "ACCURACY: 0.8269230769230769\n",
      "PRECISION: 0.7941468253968255\n",
      "RECALL: 0.8043160437325195\n",
      "F1 SCORE: 0.7841412040740149\n",
      "\n",
      "Predict  0        1        2        \n",
      "Actual\n",
      "0        18       0        1        \n",
      "\n",
      "1        1        10       5        \n",
      "\n",
      "2        9        2        58       \n",
      "\n",
      "\n"
     ]
    }
   ],
   "source": [
    "print(f\"Model with fine-tuning:\\n\\nACCURACY: {accuracy_score(test_poems['label'], ft_pred)}\\nPRECISION: {precision_score(test_poems['label'], ft_pred, average='macro')}\\nRECALL: {recall_score(test_poems['label'], ft_pred, average='macro')}\\nF1 SCORE: {f1_score(test_poems['label'], ft_pred, average='macro')}\\n\")\n",
    "\n",
    "cm = pycm.ConfusionMatrix(test_poems['label'], ft_pred)\n",
    "cm.print_matrix()"
   ]
  },
  {
   "cell_type": "markdown",
   "id": "48f1661d-a203-42ee-8681-025f2bdfe661",
   "metadata": {},
   "source": [
    "**TO-DO 6e:** Did your sentiment classifier make use of any kind of model transfer or transfer learning? If so, what kinds of transfer were used and what benefit do they provide? **(4 marks)**\n",
    "\n",
    "**ANSWER:** The model with frozen embeddings made use of direct transfer, using knowledge learned from the masked language modelling tasks it was trained on. With a classification head it transfers this knowledge to classfication. However, this knowledge isn't particularly useful on its own for predicting poem sentiment. Therefore, fine-tuning the model uses inductive transfer learning, adapting the model for learning on the poem sentiment classification task. This is beneficial for the task as the inductive bias from previous text understanding is transferred to the task, reducing the necessary training set size needed for effective sentiment classification.\n",
    "\n",
    "---\n",
    "\n",
    "**TO-DO 6f:** Use your model to compute the probability of sentiment for a sentence of your choosing. Comment your code and print the sentence with its probability distribution. Label the values so that we know which class they refer to. **(4 marks)**\n",
    "\n",
    "Hint: you could use a poem generator, such as [this one](https://www.poemofquotes.com/tools/poetry-generator/ai-poem-generator), to generate a test sentence. "
   ]
  },
  {
   "cell_type": "code",
   "execution_count": 244,
   "id": "11fcdc69-ce30-4eb3-afc5-4eeba41b40db",
   "metadata": {},
   "outputs": [
    {
     "name": "stdout",
     "output_type": "stream",
     "text": [
      "SENTENCE:\n",
      "I burned down your meaningless claim\n",
      "\n",
      "PROBABILITIES:\n",
      "Class 0 (negative): 0.9050926566123962\n",
      "Class 1 (positive): 0.009393616579473019\n",
      "Class 2 (no impact): 0.006814749911427498\n",
      "Class 3 (mixed sentiment): 0.07869898527860641\n",
      "\n",
      "MODEL DECISION: Class 2 (negative)\n"
     ]
    }
   ],
   "source": [
    "from scipy.special import softmax\n",
    "\n",
    "line = ['I burned down your meaningless claim']  # this is the line to be predicted\n",
    "model_input = tokenizer(line, padding=\"max_length\", max_length=max_length)  # tokenize the line for model input format\n",
    "output = model(attention_mask=torch.tensor(model_input[\"attention_mask\"]), input_ids=torch.tensor(model_input[\"input_ids\"]))  # make model prediction\n",
    "probabilities = softmax(output[\"logits\"].detach().numpy(), axis=1)[0]  # run a softmax function over the output logits to get class probabilities\n",
    "\n",
    "print(f'SENTENCE:\\n{line[0]}\\n\\nPROBABILITIES:\\nClass 0 (negative): {probabilities[0]}\\nClass 1 (positive): {probabilities[1]}\\nClass 2 (no impact): {probabilities[2]}\\nClass 3 (mixed sentiment): {probabilities[3]}\\n\\nMODEL DECISION: Class 2 (negative)')"
   ]
  },
  {
   "cell_type": "markdown",
   "id": "26bb0d80-4624-4690-a94d-b9f3c1a60d7f",
   "metadata": {},
   "source": [
    "# 7. OPTIONAL: More on Transformers\n",
    "\n",
    "There are many great resources out there to show you how to use this kind of model in practice:\n",
    "* An extensive online course is provided by HuggingFace: https://huggingface.co/course/chapter1/1. The pages linked from the HuggingFace course website have an 'open in Colab' button on the top right. You can open the notebook and run it on a Google server there to access GPUs.\n",
    "* Chapters that may be particularly useful: \n",
    "   * Transformers, what can they do? https://huggingface.co/course/chapter1/3?fw=pt\n",
    "   * Using Transformers: https://huggingface.co/course/chapter2/2?fw=pt\n",
    "* They provide information on fine-tuning the transformer models here: https://huggingface.co/docs/transformers/training. Fine-tuning updates the weights inside the pretrained network and requires extensive GPU or TPU computing. \n",
    "* Text Generation: https://colab.research.google.com/github/huggingface/blog/blob/master/notebooks/02_how_to_generate.ipynb. This topic goes way beyond data analytics on this unit and shows you another powerful feature of pretrained transformers.\n",
    "\n",
    "\n"
   ]
  }
 ],
 "metadata": {
  "kernelspec": {
   "display_name": "Python 3 (ipykernel)",
   "language": "python",
   "name": "python3"
  },
  "language_info": {
   "codemirror_mode": {
    "name": "ipython",
    "version": 3
   },
   "file_extension": ".py",
   "mimetype": "text/x-python",
   "name": "python",
   "nbconvert_exporter": "python",
   "pygments_lexer": "ipython3",
   "version": "3.10.5"
  }
 },
 "nbformat": 4,
 "nbformat_minor": 5
}
